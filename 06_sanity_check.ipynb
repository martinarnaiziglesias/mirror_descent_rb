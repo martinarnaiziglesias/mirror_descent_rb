{
 "cells": [
  {
   "cell_type": "code",
   "execution_count": 16,
   "metadata": {},
   "outputs": [],
   "source": [
    "import numpy as np\n",
    "import pandas as pd\n",
    "import matplotlib.pyplot as plt\n",
    "from scipy.stats import multivariate_normal\n",
    "from sklearn.mixture import GaussianMixture\n",
    "from Lib.module.movidas import *"
   ]
  },
  {
   "cell_type": "code",
   "execution_count": 17,
   "metadata": {},
   "outputs": [
    {
     "name": "stdout",
     "output_type": "stream",
     "text": [
      "The autoreload extension is already loaded. To reload it, use:\n",
      "  %reload_ext autoreload\n"
     ]
    }
   ],
   "source": [
    "%load_ext autoreload\n",
    "%autoreload 2"
   ]
  },
  {
   "cell_type": "code",
   "execution_count": 18,
   "metadata": {},
   "outputs": [],
   "source": [
    "np.random.seed(0)"
   ]
  },
  {
   "cell_type": "code",
   "execution_count": 19,
   "metadata": {},
   "outputs": [],
   "source": [
    "freq = 'B'\n",
    "assets = ['JPM UN Equity', 'PFE UN Equity', 'XOM UN Equity']\n",
    "nb_asset = len(assets)\n",
    "\n",
    "df = get_df(assets)\n",
    "\n",
    "\n",
    "Y = df.values"
   ]
  },
  {
   "cell_type": "code",
   "execution_count": 20,
   "metadata": {},
   "outputs": [
    {
     "data": {
      "text/plain": [
       "(3446, 3)"
      ]
     },
     "execution_count": 20,
     "metadata": {},
     "output_type": "execute_result"
    }
   ],
   "source": [
    "Y.shape"
   ]
  },
  {
   "cell_type": "code",
   "execution_count": 21,
   "metadata": {},
   "outputs": [],
   "source": [
    "nb_asset = 3\n",
    "budgets = np.ones(nb_asset)/nb_asset"
   ]
  },
  {
   "cell_type": "code",
   "execution_count": 22,
   "metadata": {},
   "outputs": [
    {
     "data": {
      "text/plain": [
       "array([[ 0.03165034,  0.03279542,  0.01652893],\n",
       "       [ 0.01996591,  0.00201613, -0.00711382],\n",
       "       [-0.09477202, -0.00804829, -0.01637666],\n",
       "       ...,\n",
       "       [-0.01097744, -0.0152049 ,  0.0208706 ],\n",
       "       [-0.03223354, -0.00018829,  0.01413551],\n",
       "       [-0.00926944,  0.00037665,  0.0117498 ]])"
      ]
     },
     "execution_count": 22,
     "metadata": {},
     "output_type": "execute_result"
    }
   ],
   "source": [
    "\n",
    "Y = df.values\n",
    "Y"
   ]
  },
  {
   "cell_type": "code",
   "execution_count": 23,
   "metadata": {},
   "outputs": [],
   "source": [
    "covmat = np.cov(Y, rowvar=False)"
   ]
  },
  {
   "cell_type": "code",
   "execution_count": 24,
   "metadata": {},
   "outputs": [],
   "source": [
    "X = multivariate_normal.rvs(cov= covmat, size=1000000)"
   ]
  },
  {
   "cell_type": "code",
   "execution_count": 25,
   "metadata": {},
   "outputs": [
    {
     "name": "stdout",
     "output_type": "stream",
     "text": [
      "[0.24114729 0.41462884 0.34422387]\n"
     ]
    }
   ],
   "source": [
    "rb = RiskBudgeting(risk_measure='volatility', budgets=budgets)\n",
    "rb.solve(X, store=False, epochs=15)\n",
    "x_vol = rb.x\n",
    "print(x_vol)\n",
    "#plt.plot(rb.ys);"
   ]
  },
  {
   "cell_type": "code",
   "execution_count": null,
   "metadata": {},
   "outputs": [],
   "source": [
    "rb = RiskBudgeting(risk_measure='expected_shortfall', budgets=budgets, alpha=.95, expectation=True)\n",
    "rb.solve(X, store=False, epochs=15)\n",
    "x_es_e = rb.x\n",
    "print(x_es_e)\n",
    "#plt.plot(rb.ys);"
   ]
  },
  {
   "cell_type": "code",
   "execution_count": 26,
   "metadata": {},
   "outputs": [],
   "source": [
    "M = 100\n",
    "n_val=1000000"
   ]
  },
  {
   "cell_type": "code",
   "execution_count": 27,
   "metadata": {},
   "outputs": [
    {
     "name": "stderr",
     "output_type": "stream",
     "text": [
      "100%|██████████| 10/10 [01:58<00:00, 11.83s/it]"
     ]
    },
    {
     "name": "stdout",
     "output_type": "stream",
     "text": [
      "==== MD Risk Budgeting portfolio ====\n",
      "[0.2417 0.4138 0.3445]\n",
      "==== MD Risk Budgeting portfolio wo ====\n",
      "[11.6137 19.8861 16.5547]\n"
     ]
    },
    {
     "name": "stderr",
     "output_type": "stream",
     "text": [
      "\n"
     ]
    }
   ],
   "source": [
    "problem1 = stoch_sol_measures(X, M , n_val, nb_asset, budgets, measure='volatility')\n",
    "problem1.results()"
   ]
  },
  {
   "cell_type": "code",
   "execution_count": 28,
   "metadata": {},
   "outputs": [
    {
     "data": {
      "image/png": "[encoded data removed]",
      "text/plain": [
       "<Figure size 640x480 with 1 Axes>"
      ]
     },
     "metadata": {},
     "output_type": "display_data"
    }
   ],
   "source": [
    "problem1.graph_y()"
   ]
  },
  {
   "cell_type": "code",
   "execution_count": 30,
   "metadata": {},
   "outputs": [
    {
     "name": "stderr",
     "output_type": "stream",
     "text": [
      "100%|██████████| 10/10 [03:02<00:00, 18.21s/it]\n"
     ]
    },
    {
     "name": "stdout",
     "output_type": "stream",
     "text": [
      "==== MD Risk Budgeting portfolio ====\n",
      "[0.2418 0.414  0.3442]\n",
      "==== MD Risk Budgeting portfolio wo ====\n",
      "[ 7.9655 13.6382 11.3408]\n"
     ]
    }
   ],
   "source": [
    "problem2 = stoch_sol_measures(X, M , n_val, nb_asset, budgets, measure='VaR')\n",
    "problem2.results()"
   ]
  },
  {
   "cell_type": "code",
   "execution_count": 31,
   "metadata": {},
   "outputs": [
    {
     "name": "stderr",
     "output_type": "stream",
     "text": [
      "100%|██████████| 10/10 [02:38<00:00, 15.88s/it]"
     ]
    },
    {
     "name": "stdout",
     "output_type": "stream",
     "text": [
      "==== MD Risk Budgeting portfolio ====\n",
      "[0.2417 0.4137 0.3446]\n",
      "==== MD Risk Budgeting portfolio wo ====\n",
      "[20.5742 35.218  29.3405]\n"
     ]
    },
    {
     "name": "stderr",
     "output_type": "stream",
     "text": [
      "\n"
     ]
    }
   ],
   "source": [
    "problem3 = stoch_sol_measures(X, M , n_val, nb_asset, budgets, measure='MAD')\n",
    "problem3.results()"
   ]
  },
  {
   "cell_type": "code",
   "execution_count": 37,
   "metadata": {},
   "outputs": [],
   "source": [
    "M = 1000\n",
    "#for variantile we need to increase the M"
   ]
  },
  {
   "cell_type": "code",
   "execution_count": 38,
   "metadata": {},
   "outputs": [
    {
     "name": "stderr",
     "output_type": "stream",
     "text": [
      "100%|██████████| 10/10 [03:17<00:00, 19.76s/it]"
     ]
    },
    {
     "name": "stdout",
     "output_type": "stream",
     "text": [
      "==== MD Risk Budgeting portfolio ====\n",
      "[0.2417 0.414  0.3443]\n",
      "==== MD Risk Budgeting portfolio wo ====\n",
      "[28.6362 49.0478 40.7875]\n"
     ]
    },
    {
     "name": "stderr",
     "output_type": "stream",
     "text": [
      "\n"
     ]
    }
   ],
   "source": [
    "problem4 = stoch_sol_measures(X, M , n_val, nb_asset, budgets, measure='variantile')\n",
    "problem4.results()"
   ]
  },
  {
   "cell_type": "code",
   "execution_count": null,
   "metadata": {},
   "outputs": [],
   "source": []
  }
 ],
 "metadata": {
  "kernelspec": {
   "display_name": "mirrordescent",
   "language": "python",
   "name": "python3"
  },
  "language_info": {
   "codemirror_mode": {
    "name": "ipython",
    "version": 3
   },
   "file_extension": ".py",
   "mimetype": "text/x-python",
   "name": "python",
   "nbconvert_exporter": "python",
   "pygments_lexer": "ipython3",
   "version": "3.8.19"
  }
 },
 "nbformat": 4,
 "nbformat_minor": 2
}
