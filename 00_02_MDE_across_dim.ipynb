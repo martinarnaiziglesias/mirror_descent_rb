{
 "cells": [
  {
   "cell_type": "code",
   "execution_count": 103,
   "metadata": {},
   "outputs": [],
   "source": [
    "import numpy as np\n",
    "import pandas as pd\n",
    "import matplotlib.pyplot as plt\n",
    "from Lib.module.risk_budgeting import *\n",
    "import student_mixture as sm\n",
    "from tqdm import tqdm\n",
    "import os\n",
    "import sklearn as sl\n",
    "import importlib"
   ]
  },
  {
   "cell_type": "markdown",
   "metadata": {},
   "source": [
    "# Comparison of MDE across different number of assets"
   ]
  },
  {
   "cell_type": "code",
   "execution_count": 104,
   "metadata": {},
   "outputs": [],
   "source": [
    "np.random.seed(0)"
   ]
  },
  {
   "cell_type": "code",
   "execution_count": 105,
   "metadata": {},
   "outputs": [],
   "source": [
    "freq = 'B'\n",
    "df_all = pd.concat([pd.read_excel('Data/SP_RC.xlsx',index_col=0, header=[0,1]), pd.read_excel('Data/SP_RC2.xlsx',index_col=0, header=[0,1])])\n",
    "df_all = df_all.dropna(how='all').dropna(axis=1)\n",
    "df_all = df_all.pct_change().dropna()\n",
    "df_all = df_all.replace([np.inf, -np.inf], np.nan)\n",
    "df_all = df_all[~df_all.index.duplicated(keep='first')]"
   ]
  },
  {
   "cell_type": "markdown",
   "metadata": {},
   "source": [
    "## For 10 assets"
   ]
  },
  {
   "cell_type": "markdown",
   "metadata": {},
   "source": [
    "#### Stochastic"
   ]
  },
  {
   "cell_type": "code",
   "execution_count": 106,
   "metadata": {},
   "outputs": [],
   "source": [
    "first_level_index = df_all.columns.get_level_values(0)"
   ]
  },
  {
   "cell_type": "code",
   "execution_count": 107,
   "metadata": {},
   "outputs": [],
   "source": [
    "selected_indices = np.random.choice(range(len(first_level_index)), 10, replace = False)\n",
    "assets = first_level_index[selected_indices]\n",
    "nb_asset = len(assets)\n",
    "df = df_all[assets]\n",
    "X = df.values\n",
    "n_sm = 2\n",
    "SM_model = sm.StudentMixture(n_components=n_sm, fixed_dofs = True, dofs_init = [3,6]).fit(X)\n",
    "locs = SM_model.locations_\n",
    "scales = SM_model.scales_\n",
    "probs = SM_model.weights_\n",
    "dofs = SM_model.dofs_\n",
    "### Some adjustments on the parameters of the final model \n",
    "\n",
    "SM_model.locations_ = locs\n",
    "SM_model.scales_ = scales\n",
    "SM_model.weights_ = probs\n",
    "SM_model.dofs_ = dofs"
   ]
  },
  {
   "cell_type": "code",
   "execution_count": 108,
   "metadata": {},
   "outputs": [
    {
     "name": "stdout",
     "output_type": "stream",
     "text": [
      "==== Target Risk Bugdets ====\n",
      "[0.1 0.1 0.1 0.1 0.1 0.1 0.1 0.1 0.1 0.1]\n",
      "==== $y^*$ ====\n",
      "[4.9635 2.2469 2.3031 2.6274 3.4716 4.1732 2.6338 2.1152 3.7694 3.3774]\n",
      "==== Risk Budgeting portfolio ($u^*$) ====\n",
      "[0.1567 0.0709 0.0727 0.0829 0.1096 0.1317 0.0831 0.0668 0.119  0.1066]\n",
      "==== VaR of the portfolio ====\n",
      "0.02\n",
      "==== Expected Shortfall of the portfolio ====\n",
      "0.0316\n",
      "==== Risk Contributions ====\n",
      "[0.00316 0.00316 0.00316 0.00316 0.00316 0.00316 0.00316 0.00316 0.00316\n",
      " 0.00316]\n",
      "==== Risk Contributions (normalized) ====\n",
      "[0.1 0.1 0.1 0.1 0.1 0.1 0.1 0.1 0.1 0.1]\n"
     ]
    }
   ],
   "source": [
    "### Compute the Risk Budgeting portfolio under the above model\n",
    "\n",
    "# ERC\n",
    "budgets = np.ones(nb_asset)/nb_asset \n",
    "# Expected Shortfall alpha\n",
    "alpha = .95 \n",
    "\n",
    "SM_theta, optim_res = StudentMixtureExpectedShortfall(SM_model).solve_risk_budgeting(budgets, alpha, on_simplex=False, kappa=1, method=None, maxiter=15000)\n",
    "VaR_port = StudentMixtureExpectedShortfall(SM_model).value_at_risk(SM_theta, alpha)\n",
    "ES_port = StudentMixtureExpectedShortfall(SM_model).expected_shortfall(SM_theta, alpha)\n",
    "risk_contribs = SM_theta * StudentMixtureExpectedShortfall(SM_model).expected_shortfall_gradient(SM_theta, alpha)\n",
    "gamma_star = optim_res.fun\n",
    "\n",
    "print('==== Target Risk Bugdets ====')\n",
    "print(np.round(budgets, 4))\n",
    "print('==== $y^*$ ====')\n",
    "print(np.round(optim_res.x, 4))\n",
    "\n",
    "print('==== Risk Budgeting portfolio ($u^*$) ====')\n",
    "print(np.round(SM_theta, 4))\n",
    "print('==== VaR of the portfolio ====')\n",
    "print(np.round(VaR_port, 4))\n",
    "print('==== Expected Shortfall of the portfolio ====')\n",
    "print(np.round(ES_port, 4))\n",
    "print('==== Risk Contributions ====')\n",
    "print(np.round(risk_contribs, 5))\n",
    "print('==== Risk Contributions (normalized) ====')\n",
    "print(np.round(risk_contribs/sum(risk_contribs), 2))"
   ]
  },
  {
   "cell_type": "code",
   "execution_count": 109,
   "metadata": {},
   "outputs": [],
   "source": [
    "n_val=100000\n",
    "X = SM_model.rvs(n_val)\n",
    "np.random.shuffle(X)"
   ]
  },
  {
   "cell_type": "code",
   "execution_count": 110,
   "metadata": {},
   "outputs": [],
   "source": [
    "M = 100"
   ]
  },
  {
   "cell_type": "code",
   "execution_count": 111,
   "metadata": {},
   "outputs": [
    {
     "name": "stderr",
     "output_type": "stream",
     "text": [
      "100%|██████████| 10/10 [00:24<00:00,  2.41s/it]\n"
     ]
    }
   ],
   "source": [
    "problem_10 = stoch_sol(X, M , n_val, nb_asset, budgets)"
   ]
  },
  {
   "cell_type": "code",
   "execution_count": 112,
   "metadata": {},
   "outputs": [
    {
     "name": "stdout",
     "output_type": "stream",
     "text": [
      "==== True Risk Budgeting portfolio ====\n",
      "[0.1567 0.0709 0.0727 0.0829 0.1096 0.1317 0.0831 0.0668 0.119  0.1066]\n",
      "==== MD Risk Budgeting portfolio ====\n",
      "[0.1586 0.0699 0.0725 0.0833 0.1085 0.1331 0.0818 0.0674 0.1185 0.1063]\n",
      "==== MD Risk Budgeting portfolio wo ====\n",
      "[5.0807 2.2387 2.3242 2.6695 3.4766 4.2653 2.6199 2.1606 3.7978 3.407 ]\n",
      "==== Expected Shortfall of the portfolio ====\n",
      "0.0316\n",
      "==== VaR of the portfolio ====\n",
      "0.02\n",
      "==== xi: VaR ====\n",
      "0.0204\n",
      "0.0316\n"
     ]
    }
   ],
   "source": [
    "problem_10.results(SM_theta, real_ES= ES_port, real_VaR = VaR_port)"
   ]
  },
  {
   "cell_type": "code",
   "execution_count": 113,
   "metadata": {},
   "outputs": [],
   "source": [
    "dif_10 = abs((problem_10.y/sum(problem_10.y))- SM_theta)"
   ]
  },
  {
   "cell_type": "code",
   "execution_count": 114,
   "metadata": {},
   "outputs": [
    {
     "data": {
      "text/plain": [
       "0.00087"
      ]
     },
     "execution_count": 114,
     "metadata": {},
     "output_type": "execute_result"
    }
   ],
   "source": [
    "round(np.mean(dif_10), 5)   "
   ]
  },
  {
   "cell_type": "markdown",
   "metadata": {},
   "source": [
    "#### Deterministic Case"
   ]
  },
  {
   "cell_type": "code",
   "execution_count": 115,
   "metadata": {},
   "outputs": [],
   "source": [
    "M = 100\n",
    "budgets = np.ones(nb_asset)/nb_asset\n",
    "n_iter = 50000"
   ]
  },
  {
   "cell_type": "code",
   "execution_count": 116,
   "metadata": {},
   "outputs": [
    {
     "name": "stderr",
     "output_type": "stream",
     "text": [
      "100%|██████████| 49999/49999 [04:55<00:00, 169.23it/s]\n"
     ]
    }
   ],
   "source": [
    "sol_10 = determ_sol(SM_model, M, n_iter, nb_asset,  budgets)"
   ]
  },
  {
   "cell_type": "code",
   "execution_count": 117,
   "metadata": {},
   "outputs": [
    {
     "name": "stdout",
     "output_type": "stream",
     "text": [
      "==== True Risk Budgeting portfolio ====\n",
      "[0.1567 0.0709 0.0727 0.0829 0.1096 0.1317 0.0831 0.0668 0.119  0.1066]\n",
      "==== MD Risk Budgeting portfolio ====\n",
      "[0.157  0.0709 0.0727 0.0829 0.1095 0.1317 0.0831 0.0667 0.119  0.1066]\n"
     ]
    }
   ],
   "source": [
    "sol_10.results(SM_theta)"
   ]
  },
  {
   "cell_type": "code",
   "execution_count": 118,
   "metadata": {},
   "outputs": [
    {
     "data": {
      "text/plain": [
       "array([2.87873094e-04, 4.49998913e-05, 3.97542470e-05, 5.23142639e-05,\n",
       "       4.15135598e-05, 9.71473236e-07, 4.39519248e-05, 4.12876316e-05,\n",
       "       8.85443021e-06, 3.38774794e-05])"
      ]
     },
     "execution_count": 118,
     "metadata": {},
     "output_type": "execute_result"
    }
   ],
   "source": [
    "difdet_10 = abs((sol_10.y/sum(sol_10.y))- SM_theta)\n",
    "difdet_10"
   ]
  },
  {
   "cell_type": "code",
   "execution_count": 119,
   "metadata": {},
   "outputs": [
    {
     "data": {
      "text/plain": [
       "6e-05"
      ]
     },
     "execution_count": 119,
     "metadata": {},
     "output_type": "execute_result"
    }
   ],
   "source": [
    "round(np.mean(difdet_10), 5)   "
   ]
  },
  {
   "cell_type": "markdown",
   "metadata": {},
   "source": [
    "#### Fixed stepsize"
   ]
  },
  {
   "cell_type": "code",
   "execution_count": 120,
   "metadata": {},
   "outputs": [],
   "source": [
    "n_iter = 10000"
   ]
  },
  {
   "cell_type": "code",
   "execution_count": 121,
   "metadata": {},
   "outputs": [
    {
     "name": "stderr",
     "output_type": "stream",
     "text": [
      "100%|██████████| 9999/9999 [00:58<00:00, 169.76it/s]\n"
     ]
    }
   ],
   "source": [
    "sol_10_fixed = determ_sol(SM_model, M, n_iter, nb_asset,  budgets,fixed_stepsize=True )"
   ]
  },
  {
   "cell_type": "code",
   "execution_count": 122,
   "metadata": {},
   "outputs": [
    {
     "name": "stdout",
     "output_type": "stream",
     "text": [
      "==== True Risk Budgeting portfolio ====\n",
      "[0.1567 0.0709 0.0727 0.0829 0.1096 0.1317 0.0831 0.0668 0.119  0.1066]\n",
      "==== MD Risk Budgeting portfolio ====\n",
      "[0.1567 0.0709 0.0727 0.0829 0.1096 0.1317 0.0831 0.0668 0.119  0.1066]\n"
     ]
    }
   ],
   "source": [
    "sol_10_fixed.results(SM_theta)"
   ]
  },
  {
   "cell_type": "code",
   "execution_count": 123,
   "metadata": {},
   "outputs": [
    {
     "data": {
      "text/plain": [
       "0.0"
      ]
     },
     "execution_count": 123,
     "metadata": {},
     "output_type": "execute_result"
    }
   ],
   "source": [
    "difdet_10_fixed = abs((sol_10_fixed.y/sum(sol_10_fixed.y))- SM_theta)\n",
    "round(np.mean(difdet_10_fixed), 4)   "
   ]
  },
  {
   "cell_type": "markdown",
   "metadata": {},
   "source": [
    "## For 50 assets\n"
   ]
  },
  {
   "cell_type": "markdown",
   "metadata": {},
   "source": [
    "#### Stochastic"
   ]
  },
  {
   "cell_type": "code",
   "execution_count": 124,
   "metadata": {},
   "outputs": [],
   "source": [
    "selected_indices = np.random.choice(range(len(first_level_index)), 50, replace = False)\n",
    "assets = first_level_index[selected_indices]\n",
    "nb_asset = len(assets)\n",
    "df = df_all[assets]\n",
    "X = df.values\n",
    "n_sm = 2\n",
    "SM_model = sm.StudentMixture(n_components=n_sm, fixed_dofs = True, dofs_init = [3,6]).fit(X)\n",
    "locs = SM_model.locations_\n",
    "scales = SM_model.scales_\n",
    "probs = SM_model.weights_\n",
    "dofs = SM_model.dofs_\n",
    "### Some adjustments on the parameters of the final model \n",
    "\n",
    "SM_model.locations_ = locs\n",
    "SM_model.scales_ = scales\n",
    "SM_model.weights_ = probs\n",
    "SM_model.dofs_ = dofs\n"
   ]
  },
  {
   "cell_type": "code",
   "execution_count": 125,
   "metadata": {},
   "outputs": [],
   "source": [
    "### Compute the Risk Budgeting portfolio under the above model\n",
    "\n",
    "# ERC\n",
    "budgets = np.ones(nb_asset)/nb_asset \n",
    "# Expected Shortfall alpha\n",
    "alpha = .95 \n",
    "\n",
    "SM_theta, optim_res = StudentMixtureExpectedShortfall(SM_model).solve_risk_budgeting(budgets, alpha, on_simplex=False, kappa=1, method=None, maxiter=15000)\n",
    "VaR_port = StudentMixtureExpectedShortfall(SM_model).value_at_risk(SM_theta, alpha)\n",
    "ES_port = StudentMixtureExpectedShortfall(SM_model).expected_shortfall(SM_theta, alpha)\n",
    "risk_contribs = SM_theta * StudentMixtureExpectedShortfall(SM_model).expected_shortfall_gradient(SM_theta, alpha)\n",
    "gamma_star = optim_res.fun"
   ]
  },
  {
   "cell_type": "code",
   "execution_count": 126,
   "metadata": {},
   "outputs": [],
   "source": [
    "n_val=100000\n",
    "X = SM_model.rvs(n_val)\n",
    "np.random.shuffle(X)"
   ]
  },
  {
   "cell_type": "code",
   "execution_count": 127,
   "metadata": {},
   "outputs": [],
   "source": [
    "M = 100"
   ]
  },
  {
   "cell_type": "code",
   "execution_count": 128,
   "metadata": {},
   "outputs": [
    {
     "name": "stderr",
     "output_type": "stream",
     "text": [
      "  0%|          | 0/10 [00:00<?, ?it/s]"
     ]
    },
    {
     "name": "stderr",
     "output_type": "stream",
     "text": [
      "100%|██████████| 10/10 [00:23<00:00,  2.36s/it]\n"
     ]
    }
   ],
   "source": [
    "problem_50= stoch_sol_highdim(X, M , n_val, nb_asset, budgets)"
   ]
  },
  {
   "cell_type": "code",
   "execution_count": 129,
   "metadata": {},
   "outputs": [
    {
     "name": "stdout",
     "output_type": "stream",
     "text": [
      "==== True Risk Budgeting portfolio ====\n",
      "[0.0295 0.0148 0.0146 0.0161 0.0226 0.0276 0.0173 0.0132 0.0228 0.0205\n",
      " 0.0249 0.0134 0.0209 0.0246 0.0299 0.0225 0.0193 0.0382 0.0316 0.0246\n",
      " 0.0159 0.0176 0.0197 0.0249 0.0169 0.0261 0.0209 0.0196 0.0128 0.0304\n",
      " 0.0143 0.0201 0.0219 0.0167 0.0172 0.0158 0.018  0.0115 0.023  0.0199\n",
      " 0.016  0.0151 0.0154 0.024  0.0119 0.0152 0.0202 0.0153 0.0199 0.0149]\n",
      "==== MD Risk Budgeting portfolio ====\n",
      "[0.03   0.0149 0.0145 0.0162 0.0224 0.027  0.0171 0.0131 0.0225 0.021\n",
      " 0.0248 0.0131 0.0213 0.0246 0.0298 0.0228 0.0196 0.0376 0.0313 0.0238\n",
      " 0.0164 0.0177 0.0193 0.0255 0.0167 0.0267 0.0214 0.0198 0.0128 0.0307\n",
      " 0.0143 0.0197 0.0224 0.0169 0.0172 0.0161 0.0177 0.0115 0.0234 0.0203\n",
      " 0.016  0.0151 0.0152 0.0234 0.0121 0.0152 0.0199 0.0149 0.0198 0.0146]\n",
      "==== MD Risk Budgeting portfolio wo ====\n",
      "[1.0011 0.4986 0.4842 0.5416 0.7481 0.9017 0.5719 0.438  0.7516 0.7028\n",
      " 0.8275 0.4377 0.7124 0.8225 0.9944 0.7602 0.6543 1.2558 1.044  0.7948\n",
      " 0.547  0.5909 0.6436 0.8516 0.5583 0.8927 0.7159 0.6621 0.4286 1.0256\n",
      " 0.4783 0.6597 0.7478 0.5658 0.573  0.5392 0.59   0.3851 0.7802 0.6779\n",
      " 0.5334 0.5048 0.5084 0.7824 0.4038 0.5076 0.6635 0.4974 0.6612 0.4884]\n",
      "==== xi: VaR ====\n",
      "0.0206\n",
      "0.031\n"
     ]
    }
   ],
   "source": [
    "problem_50.results(SM_theta)"
   ]
  },
  {
   "cell_type": "code",
   "execution_count": 130,
   "metadata": {},
   "outputs": [
    {
     "data": {
      "text/plain": [
       "array([4.36327364e-04, 1.34398084e-04, 1.23039484e-04, 1.23561050e-04,\n",
       "       2.34673125e-04, 5.95039689e-04, 1.99704941e-04, 1.01851085e-04,\n",
       "       3.33445009e-04, 4.90570728e-04, 1.63089176e-04, 2.65683144e-04,\n",
       "       4.00829382e-04, 3.80098620e-05, 9.59938709e-05, 2.31878328e-04,\n",
       "       2.54405129e-04, 6.09521474e-04, 3.95200722e-04, 7.99650140e-04,\n",
       "       5.12911457e-04, 6.86301606e-05, 4.44472228e-04, 5.75727335e-04,\n",
       "       1.72434880e-04, 6.56776561e-04, 5.07863469e-04, 1.69337115e-04,\n",
       "       2.32804628e-05, 3.46177060e-04, 6.44607967e-05, 3.15954182e-04,\n",
       "       5.33999615e-04, 2.10443530e-04, 5.08008793e-05, 3.08874470e-04,\n",
       "       3.33510078e-04, 4.60960967e-05, 3.11927380e-04, 4.05255460e-04,\n",
       "       2.47607679e-05, 2.50391124e-05, 1.64694487e-04, 5.32383068e-04,\n",
       "       1.55314313e-04, 2.51443442e-05, 3.25994015e-04, 4.06948525e-04,\n",
       "       7.09886372e-05, 2.47326833e-04])"
      ]
     },
     "execution_count": 130,
     "metadata": {},
     "output_type": "execute_result"
    }
   ],
   "source": [
    "dif_50 = abs((problem_50.y/sum(problem_50.y))- SM_theta)\n",
    "dif_50"
   ]
  },
  {
   "cell_type": "code",
   "execution_count": 131,
   "metadata": {},
   "outputs": [
    {
     "data": {
      "text/plain": [
       "0.00028"
      ]
     },
     "execution_count": 131,
     "metadata": {},
     "output_type": "execute_result"
    }
   ],
   "source": [
    "round(np.mean(dif_50), 5)   "
   ]
  },
  {
   "cell_type": "markdown",
   "metadata": {},
   "source": [
    "#### Deterministic"
   ]
  },
  {
   "cell_type": "code",
   "execution_count": 132,
   "metadata": {},
   "outputs": [],
   "source": [
    "M = 100\n",
    "budgets = np.ones(nb_asset)/nb_asset\n",
    "n_iter = 50000"
   ]
  },
  {
   "cell_type": "code",
   "execution_count": 133,
   "metadata": {},
   "outputs": [
    {
     "name": "stderr",
     "output_type": "stream",
     "text": [
      "  0%|          | 0/49999 [00:00<?, ?it/s]"
     ]
    },
    {
     "name": "stderr",
     "output_type": "stream",
     "text": [
      "100%|██████████| 49999/49999 [04:47<00:00, 173.64it/s]\n"
     ]
    }
   ],
   "source": [
    "sol_50 = determ_sol(SM_model, M, n_iter, nb_asset,  budgets)"
   ]
  },
  {
   "cell_type": "code",
   "execution_count": 134,
   "metadata": {},
   "outputs": [
    {
     "name": "stdout",
     "output_type": "stream",
     "text": [
      "==== True Risk Budgeting portfolio ====\n",
      "[0.0295 0.0148 0.0146 0.0161 0.0226 0.0276 0.0173 0.0132 0.0228 0.0205\n",
      " 0.0249 0.0134 0.0209 0.0246 0.0299 0.0225 0.0193 0.0382 0.0316 0.0246\n",
      " 0.0159 0.0176 0.0197 0.0249 0.0169 0.0261 0.0209 0.0196 0.0128 0.0304\n",
      " 0.0143 0.0201 0.0219 0.0167 0.0172 0.0158 0.018  0.0115 0.023  0.0199\n",
      " 0.016  0.0151 0.0154 0.024  0.0119 0.0152 0.0202 0.0153 0.0199 0.0149]\n",
      "==== MD Risk Budgeting portfolio ====\n",
      "[0.0316 0.014  0.014  0.0154 0.0217 0.0269 0.0168 0.0125 0.024  0.0204\n",
      " 0.0258 0.0127 0.0215 0.0249 0.0306 0.023  0.0187 0.0452 0.0311 0.0249\n",
      " 0.0153 0.0171 0.0197 0.026  0.0164 0.0273 0.0214 0.0198 0.0121 0.0305\n",
      " 0.0135 0.0203 0.0228 0.0158 0.0164 0.0152 0.0175 0.0108 0.023  0.0197\n",
      " 0.0155 0.0143 0.0146 0.0249 0.0112 0.0143 0.0201 0.0147 0.0201 0.0142]\n"
     ]
    }
   ],
   "source": [
    "sol_50.results(SM_theta)"
   ]
  },
  {
   "cell_type": "code",
   "execution_count": 135,
   "metadata": {},
   "outputs": [
    {
     "data": {
      "text/plain": [
       "0.00076"
      ]
     },
     "execution_count": 135,
     "metadata": {},
     "output_type": "execute_result"
    }
   ],
   "source": [
    "difdet_50 = abs((sol_50.y/sum(sol_50.y))- SM_theta)\n",
    "round(np.mean(difdet_50), 5)   "
   ]
  },
  {
   "cell_type": "markdown",
   "metadata": {},
   "source": [
    "Fixed stepsize"
   ]
  },
  {
   "cell_type": "code",
   "execution_count": 136,
   "metadata": {},
   "outputs": [
    {
     "name": "stderr",
     "output_type": "stream",
     "text": [
      "  0%|          | 0/9999 [00:00<?, ?it/s]"
     ]
    },
    {
     "name": "stderr",
     "output_type": "stream",
     "text": [
      "100%|██████████| 9999/9999 [00:57<00:00, 174.61it/s]"
     ]
    },
    {
     "name": "stdout",
     "output_type": "stream",
     "text": [
      "==== True Risk Budgeting portfolio ====\n",
      "[0.0295 0.0148 0.0146 0.0161 0.0226 0.0276 0.0173 0.0132 0.0228 0.0205\n",
      " 0.0249 0.0134 0.0209 0.0246 0.0299 0.0225 0.0193 0.0382 0.0316 0.0246\n",
      " 0.0159 0.0176 0.0197 0.0249 0.0169 0.0261 0.0209 0.0196 0.0128 0.0304\n",
      " 0.0143 0.0201 0.0219 0.0167 0.0172 0.0158 0.018  0.0115 0.023  0.0199\n",
      " 0.016  0.0151 0.0154 0.024  0.0119 0.0152 0.0202 0.0153 0.0199 0.0149]\n",
      "==== MD Risk Budgeting portfolio ====\n",
      "[0.0295 0.0148 0.0146 0.0161 0.0226 0.0276 0.0173 0.0132 0.0228 0.0205\n",
      " 0.0249 0.0134 0.0209 0.0246 0.0299 0.0225 0.0193 0.0382 0.0316 0.0246\n",
      " 0.0159 0.0176 0.0197 0.0249 0.0169 0.0261 0.0209 0.0196 0.0128 0.0304\n",
      " 0.0143 0.0201 0.0219 0.0167 0.0172 0.0158 0.018  0.0115 0.023  0.0199\n",
      " 0.016  0.0151 0.0154 0.024  0.0119 0.0152 0.0202 0.0153 0.0199 0.0149]\n"
     ]
    },
    {
     "name": "stderr",
     "output_type": "stream",
     "text": [
      "\n"
     ]
    }
   ],
   "source": [
    "n_iter = 10000\n",
    "sol_50_fixed = determ_sol(SM_model, M, n_iter, nb_asset,  budgets,fixed_stepsize=True )\n",
    "sol_50_fixed.results(SM_theta)"
   ]
  },
  {
   "cell_type": "code",
   "execution_count": 137,
   "metadata": {},
   "outputs": [
    {
     "data": {
      "text/plain": [
       "0.0"
      ]
     },
     "execution_count": 137,
     "metadata": {},
     "output_type": "execute_result"
    }
   ],
   "source": [
    "difdet_50_fixed = abs((sol_50_fixed.y/sum(sol_50_fixed.y))- SM_theta)\n",
    "round(np.mean(difdet_50_fixed), 4)   "
   ]
  },
  {
   "cell_type": "markdown",
   "metadata": {},
   "source": [
    "## For 100 assets"
   ]
  },
  {
   "cell_type": "markdown",
   "metadata": {},
   "source": [
    "#### Stochastic"
   ]
  },
  {
   "cell_type": "code",
   "execution_count": 138,
   "metadata": {},
   "outputs": [],
   "source": [
    "selected_indices = np.random.choice(range(len(first_level_index)), 100, replace = False)\n",
    "assets = first_level_index[selected_indices]\n",
    "nb_asset = len(assets)\n",
    "df = df_all[assets]\n",
    "X = df.values\n",
    "n_sm = 2\n",
    "SM_model = sm.StudentMixture(n_components=n_sm, fixed_dofs = True, dofs_init = [3,6]).fit(X)\n",
    "locs = SM_model.locations_\n",
    "scales = SM_model.scales_\n",
    "probs = SM_model.weights_\n",
    "dofs = SM_model.dofs_\n",
    "### Some adjustments on the parameters of the final model \n",
    "\n",
    "SM_model.locations_ = locs\n",
    "SM_model.scales_ = scales\n",
    "SM_model.weights_ = probs\n",
    "SM_model.dofs_ = dofs"
   ]
  },
  {
   "cell_type": "code",
   "execution_count": 139,
   "metadata": {},
   "outputs": [],
   "source": [
    "### Compute the Risk Budgeting portfolio under the above model\n",
    "\n",
    "# ERC\n",
    "budgets = np.ones(nb_asset)/nb_asset \n",
    "# Expected Shortfall alpha\n",
    "alpha = .95 \n",
    "\n",
    "SM_theta, optim_res = StudentMixtureExpectedShortfall(SM_model).solve_risk_budgeting(budgets, alpha, on_simplex=False, kappa=1, method=None, maxiter=15000)\n",
    "VaR_port = StudentMixtureExpectedShortfall(SM_model).value_at_risk(SM_theta, alpha)\n",
    "ES_port = StudentMixtureExpectedShortfall(SM_model).expected_shortfall(SM_theta, alpha)\n",
    "risk_contribs = SM_theta * StudentMixtureExpectedShortfall(SM_model).expected_shortfall_gradient(SM_theta, alpha)\n",
    "gamma_star = optim_res.fun"
   ]
  },
  {
   "cell_type": "code",
   "execution_count": 140,
   "metadata": {},
   "outputs": [],
   "source": [
    "n_val=100000\n",
    "X = SM_model.rvs(n_val)\n",
    "np.random.shuffle(X)"
   ]
  },
  {
   "cell_type": "code",
   "execution_count": 141,
   "metadata": {},
   "outputs": [],
   "source": [
    "M = 100"
   ]
  },
  {
   "cell_type": "code",
   "execution_count": 142,
   "metadata": {},
   "outputs": [
    {
     "name": "stderr",
     "output_type": "stream",
     "text": [
      "  0%|          | 0/10 [00:00<?, ?it/s]"
     ]
    },
    {
     "name": "stderr",
     "output_type": "stream",
     "text": [
      "100%|██████████| 10/10 [00:26<00:00,  2.68s/it]\n"
     ]
    }
   ],
   "source": [
    "problem_100= stoch_sol_highdim(X, M , n_val, nb_asset, budgets)"
   ]
  },
  {
   "cell_type": "code",
   "execution_count": 143,
   "metadata": {},
   "outputs": [
    {
     "name": "stdout",
     "output_type": "stream",
     "text": [
      "==== True Risk Budgeting portfolio ====\n",
      "[0.0149 0.0074 0.0073 0.0079 0.0114 0.014  0.0087 0.0066 0.0114 0.0102\n",
      " 0.0123 0.0066 0.0104 0.0124 0.015  0.0115 0.0097 0.0191 0.0161 0.0125\n",
      " 0.0078 0.0087 0.0097 0.0123 0.0084 0.0128 0.0105 0.0098 0.0063 0.0148\n",
      " 0.007  0.01   0.0108 0.0083 0.0087 0.008  0.0092 0.0056 0.0117 0.0097\n",
      " 0.0079 0.0075 0.0076 0.0119 0.0059 0.0077 0.0099 0.0075 0.01   0.0075\n",
      " 0.0069 0.0103 0.0093 0.0092 0.0097 0.0105 0.0106 0.0102 0.008  0.0212\n",
      " 0.0113 0.0085 0.0081 0.0077 0.0083 0.0087 0.0161 0.0098 0.0179 0.0069\n",
      " 0.0062 0.0107 0.0097 0.007  0.017  0.0072 0.0086 0.0097 0.0107 0.0107\n",
      " 0.0077 0.0097 0.0116 0.018  0.0101 0.0094 0.0095 0.007  0.0098 0.0069\n",
      " 0.0064 0.007  0.0097 0.0113 0.0085 0.0155 0.0096 0.0099 0.0073 0.0103]\n",
      "==== MD Risk Budgeting portfolio ====\n",
      "[0.0152 0.0071 0.0072 0.0078 0.0112 0.0134 0.0085 0.0065 0.0122 0.0102\n",
      " 0.0125 0.0063 0.0107 0.0126 0.0151 0.0113 0.0096 0.0195 0.0155 0.0122\n",
      " 0.0077 0.0086 0.0097 0.0131 0.0081 0.0134 0.0104 0.0103 0.0061 0.0148\n",
      " 0.0069 0.0101 0.011  0.0081 0.0082 0.008  0.0092 0.0054 0.0117 0.0101\n",
      " 0.0079 0.0076 0.0077 0.0124 0.0056 0.0071 0.0099 0.0074 0.0103 0.0072\n",
      " 0.0065 0.0109 0.0094 0.0092 0.0094 0.0101 0.0107 0.0102 0.0081 0.0193\n",
      " 0.0116 0.0085 0.0079 0.0077 0.0084 0.0089 0.0174 0.01   0.018  0.0067\n",
      " 0.0061 0.0105 0.0097 0.007  0.0173 0.0072 0.0087 0.0097 0.0111 0.0108\n",
      " 0.0077 0.0096 0.0118 0.0173 0.0103 0.0094 0.0093 0.0068 0.0102 0.0066\n",
      " 0.0062 0.0068 0.0097 0.0117 0.0086 0.0153 0.01   0.0096 0.0072 0.0105]\n",
      "==== MD Risk Budgeting portfolio wo ====\n",
      "[0.4928 0.229  0.233  0.2532 0.362  0.4358 0.2755 0.2102 0.3941 0.3302\n",
      " 0.4042 0.2037 0.3456 0.4079 0.4884 0.365  0.3117 0.6306 0.5021 0.3953\n",
      " 0.2489 0.2796 0.3159 0.4234 0.2612 0.4329 0.3373 0.3334 0.1987 0.4789\n",
      " 0.2225 0.3283 0.3557 0.2633 0.2644 0.2604 0.2993 0.1747 0.3784 0.3265\n",
      " 0.2565 0.2471 0.2487 0.4025 0.1821 0.2296 0.3218 0.2396 0.3322 0.2342\n",
      " 0.2103 0.3548 0.3061 0.2994 0.3039 0.3271 0.348  0.33   0.2618 0.6265\n",
      " 0.3767 0.2739 0.2558 0.2504 0.2725 0.2885 0.5635 0.3236 0.5827 0.2181\n",
      " 0.1975 0.3396 0.3152 0.2274 0.5599 0.2329 0.2818 0.3147 0.3607 0.3512\n",
      " 0.2503 0.3102 0.3828 0.5596 0.3352 0.3056 0.3001 0.2189 0.33   0.2153\n",
      " 0.2011 0.2201 0.3157 0.3783 0.2786 0.4951 0.323  0.3107 0.2335 0.3404]\n",
      "==== xi: VaR ====\n",
      "0.0193\n",
      "0.0337\n"
     ]
    }
   ],
   "source": [
    "problem_100.results(SM_theta)"
   ]
  },
  {
   "cell_type": "code",
   "execution_count": 144,
   "metadata": {},
   "outputs": [
    {
     "data": {
      "text/plain": [
       "array([3.26149418e-04, 3.51400478e-04, 9.56935934e-05, 4.54621166e-05,\n",
       "       2.10269856e-04, 5.83766551e-04, 2.08557923e-04, 8.71767320e-05,\n",
       "       7.41309474e-04, 2.86012162e-05, 1.68854666e-04, 2.85704536e-04,\n",
       "       2.25499200e-04, 2.02342267e-04, 9.83970683e-05, 1.90114141e-04,\n",
       "       4.58542832e-05, 3.95781520e-04, 5.74823231e-04, 2.58977843e-04,\n",
       "       1.42614208e-04, 5.81438314e-05, 8.18751452e-05, 7.86421685e-04,\n",
       "       3.64494800e-04, 5.12831408e-04, 9.28482609e-05, 4.92548691e-04,\n",
       "       1.72581632e-04, 6.47787327e-05, 1.54704398e-04, 1.36886501e-04,\n",
       "       2.07530863e-04, 1.62908121e-04, 5.62162141e-04, 8.58034898e-05,\n",
       "       8.25654232e-05, 2.34299655e-04, 1.22284433e-05, 3.81173723e-04,\n",
       "       2.43869578e-05, 8.87606958e-05, 3.64351420e-05, 4.97211599e-04,\n",
       "       2.90308388e-04, 5.69473120e-04, 4.78143954e-05, 6.76573051e-05,\n",
       "       2.03871393e-04, 2.51272060e-04, 3.65564104e-04, 6.12072406e-04,\n",
       "       1.72852474e-04, 8.42771108e-05, 2.91558305e-04, 4.42287360e-04,\n",
       "       1.31262468e-04, 4.98614772e-06, 1.04382327e-04, 1.88961464e-03,\n",
       "       3.52889834e-04, 3.92385799e-05, 1.82812752e-04, 4.83800943e-05,\n",
       "       1.36624266e-04, 1.73705918e-04, 1.32037488e-03, 1.48426189e-04,\n",
       "       1.21026390e-04, 1.30507034e-04, 8.00565635e-05, 2.44128092e-04,\n",
       "       3.58950057e-05, 5.62313860e-06, 3.21584045e-04, 4.58385313e-05,\n",
       "       1.20396763e-04, 1.72718711e-05, 4.43866244e-04, 1.75241745e-04,\n",
       "       5.06140503e-05, 1.16335844e-04, 2.50693286e-04, 6.82687716e-04,\n",
       "       2.86783349e-04, 5.04397767e-06, 1.95917321e-04, 2.11746381e-04,\n",
       "       3.46360192e-04, 2.96754127e-04, 1.62657016e-04, 1.85325179e-04,\n",
       "       3.53681601e-05, 3.69879330e-04, 1.20423377e-04, 2.19894576e-04,\n",
       "       3.95668638e-04, 3.54920031e-04, 8.45781547e-05, 1.94094078e-04])"
      ]
     },
     "execution_count": 144,
     "metadata": {},
     "output_type": "execute_result"
    }
   ],
   "source": [
    "dif_100 = abs((problem_100.y/sum(problem_100.y))- SM_theta)\n",
    "dif_100"
   ]
  },
  {
   "cell_type": "code",
   "execution_count": 145,
   "metadata": {},
   "outputs": [
    {
     "data": {
      "text/plain": [
       "0.00025"
      ]
     },
     "execution_count": 145,
     "metadata": {},
     "output_type": "execute_result"
    }
   ],
   "source": [
    "round(np.mean(dif_100), 5)   "
   ]
  },
  {
   "cell_type": "markdown",
   "metadata": {},
   "source": [
    "#### Deterministic"
   ]
  },
  {
   "cell_type": "code",
   "execution_count": 146,
   "metadata": {},
   "outputs": [],
   "source": [
    "M = 100\n",
    "budgets = np.ones(nb_asset)/nb_asset\n",
    "n_iter = 50000"
   ]
  },
  {
   "cell_type": "code",
   "execution_count": 147,
   "metadata": {},
   "outputs": [
    {
     "name": "stderr",
     "output_type": "stream",
     "text": [
      "  0%|          | 10/49999 [00:00<09:21, 89.01it/s]"
     ]
    },
    {
     "name": "stderr",
     "output_type": "stream",
     "text": [
      "100%|██████████| 49999/49999 [04:49<00:00, 172.54it/s]\n"
     ]
    }
   ],
   "source": [
    "sol_100 = determ_sol(SM_model, M, n_iter, nb_asset,  budgets)"
   ]
  },
  {
   "cell_type": "code",
   "execution_count": 148,
   "metadata": {},
   "outputs": [
    {
     "name": "stdout",
     "output_type": "stream",
     "text": [
      "==== True Risk Budgeting portfolio ====\n",
      "[0.0149 0.0074 0.0073 0.0079 0.0114 0.014  0.0087 0.0066 0.0114 0.0102\n",
      " 0.0123 0.0066 0.0104 0.0124 0.015  0.0115 0.0097 0.0191 0.0161 0.0125\n",
      " 0.0078 0.0087 0.0097 0.0123 0.0084 0.0128 0.0105 0.0098 0.0063 0.0148\n",
      " 0.007  0.01   0.0108 0.0083 0.0087 0.008  0.0092 0.0056 0.0117 0.0097\n",
      " 0.0079 0.0075 0.0076 0.0119 0.0059 0.0077 0.0099 0.0075 0.01   0.0075\n",
      " 0.0069 0.0103 0.0093 0.0092 0.0097 0.0105 0.0106 0.0102 0.008  0.0212\n",
      " 0.0113 0.0085 0.0081 0.0077 0.0083 0.0087 0.0161 0.0098 0.0179 0.0069\n",
      " 0.0062 0.0107 0.0097 0.007  0.017  0.0072 0.0086 0.0097 0.0107 0.0107\n",
      " 0.0077 0.0097 0.0116 0.018  0.0101 0.0094 0.0095 0.007  0.0098 0.0069\n",
      " 0.0064 0.007  0.0097 0.0113 0.0085 0.0155 0.0096 0.0099 0.0073 0.0103]\n",
      "==== MD Risk Budgeting portfolio ====\n",
      "[0.0169 0.0059 0.0068 0.0072 0.0107 0.0116 0.0082 0.0057 0.0133 0.0102\n",
      " 0.0133 0.0056 0.0119 0.0131 0.0155 0.0114 0.0087 0.0246 0.0134 0.0125\n",
      " 0.0074 0.0082 0.0105 0.0139 0.0077 0.0143 0.0118 0.0107 0.0053 0.0137\n",
      " 0.0063 0.011  0.0129 0.0066 0.0074 0.0075 0.0088 0.0041 0.0115 0.0096\n",
      " 0.0078 0.0059 0.0065 0.0134 0.0047 0.0061 0.0102 0.0068 0.0111 0.0067\n",
      " 0.0055 0.0105 0.01   0.0087 0.0076 0.0099 0.0116 0.0107 0.0069 0.0233\n",
      " 0.014  0.0069 0.0065 0.0075 0.0082 0.0095 0.0254 0.01   0.0212 0.0061\n",
      " 0.0052 0.0098 0.0086 0.0062 0.018  0.0056 0.0067 0.0098 0.0128 0.0099\n",
      " 0.0068 0.008  0.0106 0.0171 0.0107 0.0089 0.0096 0.0061 0.0094 0.0057\n",
      " 0.0054 0.0058 0.0107 0.0133 0.0084 0.0177 0.0105 0.0091 0.0066 0.0119]\n"
     ]
    }
   ],
   "source": [
    "sol_100.results(SM_theta)"
   ]
  },
  {
   "cell_type": "code",
   "execution_count": 149,
   "metadata": {},
   "outputs": [
    {
     "data": {
      "text/plain": [
       "0.00115"
      ]
     },
     "execution_count": 149,
     "metadata": {},
     "output_type": "execute_result"
    }
   ],
   "source": [
    "difdet_100 = abs((sol_100.y/sum(sol_100.y))- SM_theta)\n",
    "round(np.mean(difdet_100), 5)   "
   ]
  },
  {
   "cell_type": "markdown",
   "metadata": {},
   "source": [
    "Fixed stepsize"
   ]
  },
  {
   "cell_type": "code",
   "execution_count": 150,
   "metadata": {},
   "outputs": [
    {
     "name": "stderr",
     "output_type": "stream",
     "text": [
      "  0%|          | 0/9999 [00:00<?, ?it/s]"
     ]
    },
    {
     "name": "stderr",
     "output_type": "stream",
     "text": [
      "100%|██████████| 9999/9999 [00:58<00:00, 171.88it/s]"
     ]
    },
    {
     "name": "stdout",
     "output_type": "stream",
     "text": [
      "==== True Risk Budgeting portfolio ====\n",
      "[0.0149 0.0074 0.0073 0.0079 0.0114 0.014  0.0087 0.0066 0.0114 0.0102\n",
      " 0.0123 0.0066 0.0104 0.0124 0.015  0.0115 0.0097 0.0191 0.0161 0.0125\n",
      " 0.0078 0.0087 0.0097 0.0123 0.0084 0.0128 0.0105 0.0098 0.0063 0.0148\n",
      " 0.007  0.01   0.0108 0.0083 0.0087 0.008  0.0092 0.0056 0.0117 0.0097\n",
      " 0.0079 0.0075 0.0076 0.0119 0.0059 0.0077 0.0099 0.0075 0.01   0.0075\n",
      " 0.0069 0.0103 0.0093 0.0092 0.0097 0.0105 0.0106 0.0102 0.008  0.0212\n",
      " 0.0113 0.0085 0.0081 0.0077 0.0083 0.0087 0.0161 0.0098 0.0179 0.0069\n",
      " 0.0062 0.0107 0.0097 0.007  0.017  0.0072 0.0086 0.0097 0.0107 0.0107\n",
      " 0.0077 0.0097 0.0116 0.018  0.0101 0.0094 0.0095 0.007  0.0098 0.0069\n",
      " 0.0064 0.007  0.0097 0.0113 0.0085 0.0155 0.0096 0.0099 0.0073 0.0103]\n",
      "==== MD Risk Budgeting portfolio ====\n",
      "[0.0149 0.0074 0.0073 0.0079 0.0114 0.014  0.0087 0.0066 0.0114 0.0102\n",
      " 0.0123 0.0066 0.0104 0.0124 0.015  0.0115 0.0097 0.0191 0.0161 0.0125\n",
      " 0.0078 0.0087 0.0097 0.0123 0.0084 0.0128 0.0105 0.0098 0.0063 0.0148\n",
      " 0.007  0.01   0.0108 0.0083 0.0087 0.008  0.0092 0.0056 0.0117 0.0097\n",
      " 0.0079 0.0075 0.0076 0.0119 0.0059 0.0077 0.0099 0.0075 0.01   0.0075\n",
      " 0.0069 0.0103 0.0093 0.0092 0.0097 0.0105 0.0106 0.0102 0.008  0.0212\n",
      " 0.0113 0.0085 0.0081 0.0077 0.0083 0.0087 0.0161 0.0098 0.0179 0.0069\n",
      " 0.0062 0.0107 0.0097 0.007  0.017  0.0072 0.0086 0.0097 0.0107 0.0107\n",
      " 0.0077 0.0097 0.0116 0.018  0.0101 0.0094 0.0095 0.007  0.0098 0.0069\n",
      " 0.0064 0.007  0.0097 0.0113 0.0085 0.0155 0.0096 0.0099 0.0073 0.0103]\n"
     ]
    },
    {
     "name": "stderr",
     "output_type": "stream",
     "text": [
      "\n"
     ]
    }
   ],
   "source": [
    "n_iter = 10000\n",
    "sol_100_fixed = determ_sol(SM_model, M, n_iter, nb_asset,  budgets,fixed_stepsize=True )\n",
    "sol_100_fixed.results(SM_theta)"
   ]
  },
  {
   "cell_type": "code",
   "execution_count": 151,
   "metadata": {},
   "outputs": [
    {
     "data": {
      "text/plain": [
       "0.0"
      ]
     },
     "execution_count": 151,
     "metadata": {},
     "output_type": "execute_result"
    }
   ],
   "source": [
    "difdet_100_fixed = abs((sol_100_fixed.y/sum(sol_100_fixed.y))- SM_theta)\n",
    "round(np.mean(difdet_100_fixed), 4) "
   ]
  },
  {
   "cell_type": "markdown",
   "metadata": {},
   "source": [
    "## For 250 assets"
   ]
  },
  {
   "cell_type": "markdown",
   "metadata": {},
   "source": [
    "#### Stochastic"
   ]
  },
  {
   "cell_type": "code",
   "execution_count": 152,
   "metadata": {},
   "outputs": [],
   "source": [
    "selected_indices = np.random.choice(range(len(first_level_index)), 250, replace = False)\n",
    "assets = first_level_index[selected_indices]\n",
    "nb_asset = len(assets)\n",
    "df = df_all[assets]\n",
    "X = df.values\n",
    "n_sm = 2\n",
    "SM_model = sm.StudentMixture(n_components=n_sm, fixed_dofs = True, dofs_init = [3,6]).fit(X)\n",
    "locs = SM_model.locations_\n",
    "scales = SM_model.scales_\n",
    "probs = SM_model.weights_\n",
    "dofs = SM_model.dofs_\n",
    "### Some adjustments on the parameters of the final model \n",
    "\n",
    "SM_model.locations_ = locs\n",
    "SM_model.scales_ = scales\n",
    "SM_model.weights_ = probs\n",
    "SM_model.dofs_ = dofs"
   ]
  },
  {
   "cell_type": "code",
   "execution_count": 153,
   "metadata": {},
   "outputs": [],
   "source": [
    "### Compute the Risk Budgeting portfolio under the above model\n",
    "\n",
    "# ERC\n",
    "budgets = np.ones(nb_asset)/nb_asset \n",
    "# Expected Shortfall alpha\n",
    "alpha = .95 \n",
    "\n",
    "SM_theta, optim_res = StudentMixtureExpectedShortfall(SM_model).solve_risk_budgeting(budgets, alpha, on_simplex=False, kappa=1, method=None, maxiter=15000)\n",
    "VaR_port = StudentMixtureExpectedShortfall(SM_model).value_at_risk(SM_theta, alpha)\n",
    "ES_port = StudentMixtureExpectedShortfall(SM_model).expected_shortfall(SM_theta, alpha)\n",
    "risk_contribs = SM_theta * StudentMixtureExpectedShortfall(SM_model).expected_shortfall_gradient(SM_theta, alpha)\n",
    "gamma_star = optim_res.fun"
   ]
  },
  {
   "cell_type": "code",
   "execution_count": 154,
   "metadata": {},
   "outputs": [],
   "source": [
    "n_val=100000\n",
    "X = SM_model.rvs(n_val)\n",
    "np.random.shuffle(X)"
   ]
  },
  {
   "cell_type": "code",
   "execution_count": 155,
   "metadata": {},
   "outputs": [],
   "source": [
    "M = 100"
   ]
  },
  {
   "cell_type": "code",
   "execution_count": 156,
   "metadata": {},
   "outputs": [
    {
     "name": "stderr",
     "output_type": "stream",
     "text": [
      "100%|██████████| 10/10 [00:35<00:00,  3.58s/it]\n"
     ]
    }
   ],
   "source": [
    "problem_250= stoch_sol_highdim(X, M , n_val, nb_asset, budgets)"
   ]
  },
  {
   "cell_type": "code",
   "execution_count": 157,
   "metadata": {},
   "outputs": [
    {
     "name": "stdout",
     "output_type": "stream",
     "text": [
      "==== True Risk Budgeting portfolio ====\n",
      "[0.0058 0.0029 0.0028 0.0033 0.0049 0.0069 0.0034 0.0025 0.0045 0.0044\n",
      " 0.0051 0.0023 0.0042 0.0049 0.0056 0.0046 0.0039 0.0075 0.0071 0.0043\n",
      " 0.0032 0.0036 0.0033 0.0048 0.0035 0.0055 0.0037 0.004  0.0024 0.0067\n",
      " 0.0028 0.0041 0.0045 0.0033 0.0036 0.0032 0.0036 0.0023 0.0049 0.004\n",
      " 0.0028 0.0031 0.0032 0.0047 0.0023 0.0032 0.0036 0.0027 0.0038 0.003\n",
      " 0.0027 0.0043 0.0037 0.0037 0.004  0.0045 0.0039 0.0039 0.0034 0.0085\n",
      " 0.0048 0.0035 0.0033 0.0028 0.0034 0.0036 0.0063 0.004  0.0074 0.0026\n",
      " 0.0022 0.0043 0.004  0.0026 0.0072 0.003  0.0034 0.0039 0.0044 0.0043\n",
      " 0.0031 0.004  0.0052 0.0082 0.0038 0.0037 0.0038 0.0027 0.0039 0.0029\n",
      " 0.0024 0.0027 0.0034 0.0043 0.0035 0.006  0.0036 0.0034 0.003  0.0036\n",
      " 0.0027 0.0032 0.0022 0.004  0.0031 0.0053 0.0058 0.0026 0.0042 0.0083\n",
      " 0.0042 0.0037 0.0045 0.0031 0.004  0.0053 0.0036 0.0044 0.0025 0.0035\n",
      " 0.0026 0.0036 0.0086 0.0044 0.0032 0.0037 0.0051 0.0036 0.0026 0.0038\n",
      " 0.0064 0.0056 0.0027 0.0042 0.0026 0.0051 0.0046 0.0038 0.0024 0.0041\n",
      " 0.0034 0.0039 0.0035 0.0037 0.0028 0.0029 0.0031 0.0029 0.0029 0.0049\n",
      " 0.0042 0.0044 0.0065 0.0024 0.0032 0.0064 0.0045 0.004  0.0032 0.0047\n",
      " 0.003  0.0042 0.0045 0.004  0.0049 0.003  0.0047 0.0028 0.0051 0.0047\n",
      " 0.0032 0.003  0.0022 0.0025 0.0042 0.0039 0.0048 0.0034 0.0038 0.0024\n",
      " 0.0023 0.008  0.0066 0.0042 0.0048 0.0032 0.0032 0.0032 0.003  0.0024\n",
      " 0.0036 0.0039 0.0031 0.0036 0.0031 0.0036 0.0049 0.0056 0.0036 0.0035\n",
      " 0.0028 0.0079 0.0045 0.0073 0.005  0.0047 0.0033 0.0022 0.0055 0.0035\n",
      " 0.003  0.0041 0.0036 0.0034 0.0043 0.0042 0.0035 0.0036 0.0036 0.0084\n",
      " 0.0036 0.0029 0.0038 0.004  0.0039 0.0034 0.0057 0.003  0.0023 0.0021\n",
      " 0.0047 0.0036 0.0071 0.0032 0.0066 0.0023 0.0032 0.0074 0.003  0.0037\n",
      " 0.0035 0.0041 0.0038 0.0032 0.0032 0.0027 0.0032 0.0062 0.004  0.0033]\n",
      "==== MD Risk Budgeting portfolio ====\n",
      "[0.0057 0.0028 0.0029 0.0035 0.0043 0.0053 0.0034 0.0025 0.0049 0.0047\n",
      " 0.0053 0.0022 0.0048 0.005  0.0052 0.0045 0.0037 0.0072 0.0055 0.0045\n",
      " 0.0035 0.0037 0.0035 0.0049 0.0035 0.0056 0.004  0.0043 0.0023 0.0057\n",
      " 0.0028 0.0042 0.0051 0.0032 0.0033 0.0034 0.0037 0.0021 0.0048 0.0041\n",
      " 0.003  0.003  0.0033 0.0047 0.0024 0.0031 0.0038 0.0027 0.0041 0.003\n",
      " 0.0026 0.0046 0.0041 0.0038 0.0033 0.0043 0.0042 0.0042 0.0034 0.0073\n",
      " 0.0052 0.0034 0.0032 0.0029 0.0037 0.0041 0.0069 0.0041 0.0067 0.0027\n",
      " 0.0023 0.0044 0.0039 0.0026 0.0066 0.0028 0.0032 0.0038 0.0051 0.0042\n",
      " 0.0032 0.0034 0.0048 0.0066 0.0042 0.0036 0.0042 0.0027 0.0039 0.0029\n",
      " 0.0023 0.0027 0.0036 0.0047 0.0038 0.0059 0.0038 0.0036 0.0033 0.0039\n",
      " 0.0029 0.0035 0.0022 0.0042 0.003  0.0056 0.0059 0.0028 0.0041 0.0071\n",
      " 0.0044 0.0041 0.0045 0.0032 0.004  0.0053 0.0033 0.0045 0.0023 0.0039\n",
      " 0.0027 0.0034 0.0076 0.0041 0.0034 0.0037 0.0057 0.0034 0.0026 0.004\n",
      " 0.0068 0.0053 0.0024 0.0045 0.0026 0.005  0.004  0.004  0.0024 0.0045\n",
      " 0.0031 0.0039 0.004  0.0039 0.0029 0.0028 0.0032 0.0028 0.0029 0.0051\n",
      " 0.0044 0.005  0.0064 0.0022 0.0031 0.0061 0.0044 0.0042 0.0034 0.0051\n",
      " 0.0031 0.0046 0.0047 0.004  0.0047 0.0032 0.0051 0.0026 0.0053 0.0049\n",
      " 0.0036 0.0027 0.0021 0.0025 0.0045 0.0042 0.0048 0.0037 0.0033 0.0026\n",
      " 0.0022 0.0069 0.0068 0.0039 0.0047 0.0032 0.0032 0.0032 0.0028 0.0023\n",
      " 0.004  0.0038 0.0032 0.0038 0.0028 0.0033 0.0048 0.006  0.0036 0.0037\n",
      " 0.003  0.0047 0.005  0.0072 0.005  0.004  0.0032 0.0021 0.0054 0.0039\n",
      " 0.0028 0.0042 0.0037 0.0036 0.0046 0.0044 0.0036 0.0036 0.0035 0.0077\n",
      " 0.0041 0.003  0.0039 0.0043 0.0041 0.0038 0.0054 0.003  0.0022 0.0021\n",
      " 0.005  0.004  0.0064 0.0033 0.0067 0.0022 0.0035 0.0069 0.0032 0.0039\n",
      " 0.0036 0.0043 0.0038 0.0031 0.0033 0.0025 0.0031 0.0063 0.0045 0.0034]\n",
      "==== MD Risk Budgeting portfolio wo ====\n",
      "[0.1911 0.0931 0.0985 0.1195 0.1441 0.1796 0.1144 0.0836 0.1659 0.1605\n",
      " 0.1792 0.0746 0.1614 0.1698 0.1762 0.1512 0.1236 0.2432 0.1872 0.1513\n",
      " 0.1179 0.125  0.1199 0.1653 0.1181 0.1906 0.1341 0.145  0.0794 0.1942\n",
      " 0.0962 0.1434 0.1711 0.1069 0.1128 0.1135 0.125  0.0726 0.1628 0.1392\n",
      " 0.1017 0.1003 0.111  0.1591 0.0812 0.1038 0.128  0.0909 0.1398 0.1012\n",
      " 0.0874 0.1539 0.1392 0.129  0.1125 0.1444 0.1415 0.1411 0.1163 0.2455\n",
      " 0.1758 0.1144 0.1067 0.0994 0.126  0.1376 0.2345 0.1397 0.2277 0.0904\n",
      " 0.0767 0.1492 0.132  0.0868 0.2216 0.0934 0.1069 0.1298 0.1729 0.1419\n",
      " 0.1087 0.1151 0.1629 0.2231 0.1417 0.1214 0.1416 0.0921 0.131  0.0992\n",
      " 0.0791 0.0909 0.1218 0.1599 0.1286 0.2005 0.1302 0.1214 0.1117 0.1308\n",
      " 0.0983 0.1179 0.0752 0.1436 0.1002 0.1899 0.1993 0.0939 0.1393 0.2397\n",
      " 0.1481 0.14   0.1522 0.1074 0.1367 0.1784 0.1103 0.1538 0.0788 0.1323\n",
      " 0.091  0.1148 0.2576 0.138  0.1162 0.1245 0.1911 0.1163 0.0865 0.1368\n",
      " 0.2297 0.1776 0.082  0.1539 0.0881 0.168  0.1365 0.1362 0.0795 0.1521\n",
      " 0.1048 0.1332 0.1368 0.1304 0.0967 0.0936 0.1074 0.0952 0.0985 0.1718\n",
      " 0.1481 0.1682 0.2153 0.0757 0.1063 0.2067 0.1493 0.1422 0.1154 0.1727\n",
      " 0.1039 0.1546 0.1602 0.1357 0.1576 0.1075 0.1712 0.0883 0.1805 0.1668\n",
      " 0.1209 0.0921 0.0693 0.0841 0.1527 0.1409 0.1619 0.124  0.1113 0.0864\n",
      " 0.0733 0.2348 0.2295 0.1321 0.1597 0.1094 0.1089 0.1097 0.0944 0.0786\n",
      " 0.1343 0.1286 0.1083 0.1271 0.0958 0.1126 0.1614 0.2036 0.1208 0.126\n",
      " 0.1025 0.1603 0.1696 0.2445 0.1697 0.1367 0.1096 0.0715 0.1828 0.1317\n",
      " 0.0963 0.1429 0.1245 0.1228 0.1559 0.1485 0.1229 0.123  0.1199 0.2604\n",
      " 0.1402 0.1023 0.1333 0.1466 0.1391 0.1302 0.1813 0.1013 0.0744 0.0695\n",
      " 0.1694 0.1347 0.2163 0.1128 0.2266 0.0733 0.1172 0.2322 0.1089 0.1311\n",
      " 0.1213 0.1439 0.1281 0.1057 0.113  0.0838 0.1051 0.2127 0.1516 0.1155]\n",
      "==== xi: VaR ====\n",
      "0.0232\n",
      "0.0363\n"
     ]
    }
   ],
   "source": [
    "problem_250.results(SM_theta)"
   ]
  },
  {
   "cell_type": "code",
   "execution_count": 158,
   "metadata": {},
   "outputs": [
    {
     "data": {
      "text/plain": [
       "array([1.17836560e-04, 1.36872580e-04, 7.63971972e-05, 2.21623466e-04,\n",
       "       5.89979653e-04, 1.61778674e-03, 6.71387441e-05, 1.60591414e-05,\n",
       "       3.95227122e-04, 3.39475030e-04, 1.99963231e-04, 9.07549709e-05,\n",
       "       5.40920696e-04, 1.51342206e-04, 3.75035142e-04, 9.57657745e-05,\n",
       "       2.17146395e-04, 3.55918442e-04, 1.57035878e-03, 2.09823923e-04,\n",
       "       2.76532803e-04, 9.64488517e-05, 2.66543086e-04, 1.18360648e-04,\n",
       "       5.14967639e-05, 1.15276137e-04, 2.33933355e-04, 3.07815273e-04,\n",
       "       6.46774948e-05, 9.20782346e-04, 1.36382249e-05, 1.45319238e-04,\n",
       "       5.44521109e-04, 1.37657978e-04, 2.55325236e-04, 1.74030250e-04,\n",
       "       9.84138002e-05, 2.00180527e-04, 3.71271960e-05, 1.46545784e-04,\n",
       "       1.57150265e-04, 1.51380288e-04, 1.03831995e-04, 5.01903198e-05,\n",
       "       6.30762304e-05, 9.14356929e-05, 1.84909333e-04, 8.94400061e-06,\n",
       "       2.85752074e-04, 1.40227548e-05, 7.77526722e-05, 2.79564361e-04,\n",
       "       4.12083972e-04, 1.52048851e-04, 6.73856936e-04, 1.93575207e-04,\n",
       "       2.93197481e-04, 2.25051753e-04, 2.48899868e-05, 1.19897402e-03,\n",
       "       4.26149683e-04, 1.46628104e-04, 1.73982969e-04, 1.43830956e-04,\n",
       "       2.76199770e-04, 4.89122276e-04, 5.99432477e-04, 1.22743245e-04,\n",
       "       6.94200710e-04, 4.18608785e-05, 2.50652013e-05, 9.80364772e-05,\n",
       "       6.61597186e-05, 9.48310625e-06, 6.20197210e-04, 2.30292143e-04,\n",
       "       2.87512214e-04, 4.03924769e-05, 6.94659909e-04, 9.86631018e-05,\n",
       "       1.20210707e-04, 5.57762942e-04, 3.54754220e-04, 1.60390496e-03,\n",
       "       3.39800479e-04, 1.23101329e-04, 4.05358665e-04, 6.32006810e-06,\n",
       "       3.58253519e-05, 4.62642612e-05, 1.99796884e-05, 3.34696428e-05,\n",
       "       2.45807703e-04, 4.72472077e-04, 3.05422625e-04, 6.12689380e-05,\n",
       "       2.83152660e-04, 1.58378380e-04, 2.58977788e-04, 2.36986397e-04,\n",
       "       1.78477510e-04, 2.86280903e-04, 2.54572509e-05, 2.04325442e-04,\n",
       "       1.83909287e-04, 2.71473860e-04, 7.09719162e-05, 1.50792730e-04,\n",
       "       5.93028550e-05, 1.24087591e-03, 2.07021786e-04, 4.49832318e-04,\n",
       "       3.64996336e-05, 4.77455790e-05, 7.02126413e-05, 4.91278840e-05,\n",
       "       3.48714602e-04, 1.06366971e-04, 1.83463792e-04, 3.85303610e-04,\n",
       "       7.05329595e-05, 1.99244229e-04, 9.41656291e-04, 2.85218899e-04,\n",
       "       2.52611289e-04, 5.89200053e-05, 5.76411601e-04, 1.51450249e-04,\n",
       "       6.32723303e-05, 2.93279342e-04, 3.48396248e-04, 3.80383440e-04,\n",
       "       2.73045784e-04, 3.66337558e-04, 3.53266915e-05, 1.74587194e-04,\n",
       "       5.64199102e-04, 2.38275129e-04, 9.63063364e-05, 4.07615832e-04,\n",
       "       2.72782263e-04, 7.31126584e-06, 5.57465771e-04, 1.80516215e-04,\n",
       "       8.93576996e-05, 1.13796415e-04, 1.19953826e-04, 9.27040514e-05,\n",
       "       8.78853159e-06, 2.25289864e-04, 1.42659069e-04, 5.41286296e-04,\n",
       "       1.75129519e-04, 1.24128917e-04, 3.95069184e-05, 2.71679499e-04,\n",
       "       6.31550584e-05, 1.68839976e-04, 2.41490000e-04, 4.47708825e-04,\n",
       "       5.88454209e-05, 4.20402346e-04, 2.59337450e-04, 1.43593078e-05,\n",
       "       2.11536832e-04, 1.78239215e-04, 3.32467081e-04, 2.29015723e-04,\n",
       "       1.90524900e-04, 2.31813621e-04, 3.34065592e-04, 2.34419302e-04,\n",
       "       1.05351443e-04, 2.14717842e-05, 3.33708407e-04, 2.34926269e-04,\n",
       "       2.12321438e-05, 3.04318455e-04, 4.65806056e-04, 1.09040348e-04,\n",
       "       9.07255428e-05, 1.07177217e-03, 1.35213882e-04, 2.58318902e-04,\n",
       "       7.39093476e-05, 1.91702765e-06, 6.59359087e-05, 3.57385184e-05,\n",
       "       1.75298718e-04, 7.35520260e-05, 3.78651115e-04, 1.31338517e-04,\n",
       "       1.44437011e-04, 1.61774795e-04, 2.67053913e-04, 2.78435764e-04,\n",
       "       1.18537425e-04, 4.00614622e-04, 2.02027652e-05, 2.46546428e-04,\n",
       "       2.47503629e-04, 3.14703139e-03, 5.24442665e-04, 1.13093841e-04,\n",
       "       2.45012447e-05, 6.09659986e-04, 1.04152783e-04, 1.02316122e-04,\n",
       "       6.61759064e-05, 4.16358938e-04, 1.49035037e-04, 1.52763431e-04,\n",
       "       8.57365911e-05, 1.89192326e-04, 3.29204243e-04, 2.12237217e-04,\n",
       "       1.66167272e-04, 5.89334698e-05, 8.15916332e-05, 6.96496336e-04,\n",
       "       5.13698836e-04, 8.36957659e-05, 1.87372601e-04, 3.82875275e-04,\n",
       "       2.18145083e-04, 4.07374136e-04, 3.26755756e-04, 2.47511559e-05,\n",
       "       8.30758621e-05, 6.74678511e-05, 3.55998173e-04, 4.01124731e-04,\n",
       "       7.38379065e-04, 1.45076478e-04, 1.07850676e-04, 9.30713041e-05,\n",
       "       3.12570165e-04, 5.29072735e-04, 2.48489853e-04, 1.56302770e-04,\n",
       "       1.32256292e-04, 2.01346373e-04, 2.55510351e-05, 1.09540081e-04,\n",
       "       1.69940519e-04, 1.77731543e-04, 5.86060167e-05, 1.28857735e-04,\n",
       "       4.43972098e-04, 1.08750028e-04])"
      ]
     },
     "execution_count": 158,
     "metadata": {},
     "output_type": "execute_result"
    }
   ],
   "source": [
    "dif_250 = abs((problem_250.y/sum(problem_250.y))- SM_theta)\n",
    "dif_250"
   ]
  },
  {
   "cell_type": "code",
   "execution_count": 159,
   "metadata": {},
   "outputs": [
    {
     "data": {
      "text/plain": [
       "0.00026"
      ]
     },
     "execution_count": 159,
     "metadata": {},
     "output_type": "execute_result"
    }
   ],
   "source": [
    "round(np.mean(dif_250), 5)   "
   ]
  },
  {
   "cell_type": "markdown",
   "metadata": {},
   "source": [
    "#### Deterministic"
   ]
  },
  {
   "cell_type": "code",
   "execution_count": 160,
   "metadata": {},
   "outputs": [],
   "source": [
    "M = 100\n",
    "budgets = np.ones(nb_asset)/nb_asset\n",
    "n_iter = 50000"
   ]
  },
  {
   "cell_type": "code",
   "execution_count": 161,
   "metadata": {},
   "outputs": [
    {
     "name": "stderr",
     "output_type": "stream",
     "text": [
      "100%|██████████| 49999/49999 [05:12<00:00, 160.13it/s]\n"
     ]
    }
   ],
   "source": [
    "sol_250 = determ_sol(SM_model, M, n_iter, nb_asset,  budgets)"
   ]
  },
  {
   "cell_type": "code",
   "execution_count": 162,
   "metadata": {},
   "outputs": [
    {
     "name": "stdout",
     "output_type": "stream",
     "text": [
      "==== True Risk Budgeting portfolio ====\n",
      "[0.0058 0.0029 0.0028 0.0033 0.0049 0.0069 0.0034 0.0025 0.0045 0.0044\n",
      " 0.0051 0.0023 0.0042 0.0049 0.0056 0.0046 0.0039 0.0075 0.0071 0.0043\n",
      " 0.0032 0.0036 0.0033 0.0048 0.0035 0.0055 0.0037 0.004  0.0024 0.0067\n",
      " 0.0028 0.0041 0.0045 0.0033 0.0036 0.0032 0.0036 0.0023 0.0049 0.004\n",
      " 0.0028 0.0031 0.0032 0.0047 0.0023 0.0032 0.0036 0.0027 0.0038 0.003\n",
      " 0.0027 0.0043 0.0037 0.0037 0.004  0.0045 0.0039 0.0039 0.0034 0.0085\n",
      " 0.0048 0.0035 0.0033 0.0028 0.0034 0.0036 0.0063 0.004  0.0074 0.0026\n",
      " 0.0022 0.0043 0.004  0.0026 0.0072 0.003  0.0034 0.0039 0.0044 0.0043\n",
      " 0.0031 0.004  0.0052 0.0082 0.0038 0.0037 0.0038 0.0027 0.0039 0.0029\n",
      " 0.0024 0.0027 0.0034 0.0043 0.0035 0.006  0.0036 0.0034 0.003  0.0036\n",
      " 0.0027 0.0032 0.0022 0.004  0.0031 0.0053 0.0058 0.0026 0.0042 0.0083\n",
      " 0.0042 0.0037 0.0045 0.0031 0.004  0.0053 0.0036 0.0044 0.0025 0.0035\n",
      " 0.0026 0.0036 0.0086 0.0044 0.0032 0.0037 0.0051 0.0036 0.0026 0.0038\n",
      " 0.0064 0.0056 0.0027 0.0042 0.0026 0.0051 0.0046 0.0038 0.0024 0.0041\n",
      " 0.0034 0.0039 0.0035 0.0037 0.0028 0.0029 0.0031 0.0029 0.0029 0.0049\n",
      " 0.0042 0.0044 0.0065 0.0024 0.0032 0.0064 0.0045 0.004  0.0032 0.0047\n",
      " 0.003  0.0042 0.0045 0.004  0.0049 0.003  0.0047 0.0028 0.0051 0.0047\n",
      " 0.0032 0.003  0.0022 0.0025 0.0042 0.0039 0.0048 0.0034 0.0038 0.0024\n",
      " 0.0023 0.008  0.0066 0.0042 0.0048 0.0032 0.0032 0.0032 0.003  0.0024\n",
      " 0.0036 0.0039 0.0031 0.0036 0.0031 0.0036 0.0049 0.0056 0.0036 0.0035\n",
      " 0.0028 0.0079 0.0045 0.0073 0.005  0.0047 0.0033 0.0022 0.0055 0.0035\n",
      " 0.003  0.0041 0.0036 0.0034 0.0043 0.0042 0.0035 0.0036 0.0036 0.0084\n",
      " 0.0036 0.0029 0.0038 0.004  0.0039 0.0034 0.0057 0.003  0.0023 0.0021\n",
      " 0.0047 0.0036 0.0071 0.0032 0.0066 0.0023 0.0032 0.0074 0.003  0.0037\n",
      " 0.0035 0.0041 0.0038 0.0032 0.0032 0.0027 0.0032 0.0062 0.004  0.0033]\n",
      "==== MD Risk Budgeting portfolio ====\n",
      "[0.0063 0.0019 0.0025 0.0036 0.0033 0.0042 0.003  0.0018 0.006  0.0066\n",
      " 0.007  0.0012 0.0066 0.0049 0.0053 0.0043 0.0026 0.0091 0.0046 0.0039\n",
      " 0.0035 0.0036 0.0026 0.0055 0.0027 0.0068 0.0031 0.0041 0.0015 0.0059\n",
      " 0.0021 0.0046 0.006  0.0023 0.003  0.0031 0.0033 0.0013 0.0045 0.0046\n",
      " 0.0025 0.0022 0.003  0.0052 0.0018 0.0021 0.0031 0.002  0.0039 0.0025\n",
      " 0.0017 0.0051 0.0047 0.0034 0.0018 0.0041 0.0036 0.0045 0.0029 0.0078\n",
      " 0.0077 0.003  0.0028 0.0025 0.0045 0.0048 0.0105 0.0039 0.0079 0.0019\n",
      " 0.0015 0.0042 0.0037 0.0018 0.0085 0.0018 0.002  0.0035 0.0066 0.0041\n",
      " 0.0025 0.0024 0.0045 0.0082 0.0044 0.0031 0.0041 0.002  0.0035 0.0024\n",
      " 0.0016 0.002  0.0026 0.0048 0.0041 0.007  0.0037 0.0024 0.0036 0.0032\n",
      " 0.0026 0.0033 0.0014 0.0047 0.0024 0.0066 0.0076 0.0018 0.0031 0.0091\n",
      " 0.0052 0.0047 0.0045 0.0027 0.0042 0.0059 0.0017 0.0044 0.0013 0.0044\n",
      " 0.0022 0.0023 0.01   0.0039 0.0033 0.0033 0.0073 0.0027 0.0016 0.0031\n",
      " 0.0091 0.005  0.0016 0.0048 0.0016 0.0049 0.0029 0.0043 0.0015 0.0047\n",
      " 0.0021 0.004  0.0048 0.0044 0.0019 0.0017 0.0028 0.0019 0.0023 0.0062\n",
      " 0.0052 0.006  0.0074 0.0009 0.0025 0.0071 0.0052 0.0038 0.003  0.0063\n",
      " 0.0025 0.0055 0.0046 0.0038 0.0048 0.0028 0.0063 0.0017 0.006  0.0051\n",
      " 0.0041 0.002  0.0013 0.0017 0.0052 0.0043 0.0052 0.0037 0.0026 0.0021\n",
      " 0.0013 0.0078 0.0098 0.0039 0.0053 0.0027 0.0027 0.0028 0.0018 0.0015\n",
      " 0.0036 0.0031 0.0033 0.0037 0.002  0.0026 0.0054 0.0075 0.0031 0.004\n",
      " 0.0028 0.0027 0.0069 0.0096 0.0059 0.0032 0.0026 0.0013 0.0069 0.0045\n",
      " 0.0021 0.004  0.003  0.0033 0.0051 0.0049 0.0033 0.0034 0.0034 0.0102\n",
      " 0.0053 0.0025 0.0041 0.0052 0.0036 0.0042 0.0062 0.0025 0.0012 0.0011\n",
      " 0.0061 0.0044 0.0086 0.0034 0.0102 0.0012 0.0038 0.0089 0.003  0.0044\n",
      " 0.0034 0.0058 0.003  0.0021 0.0033 0.0018 0.0022 0.0072 0.0046 0.0031]\n"
     ]
    }
   ],
   "source": [
    "sol_250.results(SM_theta)"
   ]
  },
  {
   "cell_type": "code",
   "execution_count": 163,
   "metadata": {},
   "outputs": [
    {
     "data": {
      "text/plain": [
       "0.00085"
      ]
     },
     "execution_count": 163,
     "metadata": {},
     "output_type": "execute_result"
    }
   ],
   "source": [
    "difdet_250 = abs((sol_250.y/sum(sol_250.y))- SM_theta)\n",
    "round(np.mean(difdet_250), 5)   "
   ]
  },
  {
   "cell_type": "markdown",
   "metadata": {},
   "source": [
    "Fixed stpesize"
   ]
  },
  {
   "cell_type": "code",
   "execution_count": 164,
   "metadata": {},
   "outputs": [
    {
     "name": "stderr",
     "output_type": "stream",
     "text": [
      "  0%|          | 0/9999 [00:00<?, ?it/s]"
     ]
    },
    {
     "name": "stderr",
     "output_type": "stream",
     "text": [
      "100%|██████████| 9999/9999 [01:00<00:00, 164.21it/s]"
     ]
    },
    {
     "name": "stdout",
     "output_type": "stream",
     "text": [
      "==== True Risk Budgeting portfolio ====\n",
      "[0.0058 0.0029 0.0028 0.0033 0.0049 0.0069 0.0034 0.0025 0.0045 0.0044\n",
      " 0.0051 0.0023 0.0042 0.0049 0.0056 0.0046 0.0039 0.0075 0.0071 0.0043\n",
      " 0.0032 0.0036 0.0033 0.0048 0.0035 0.0055 0.0037 0.004  0.0024 0.0067\n",
      " 0.0028 0.0041 0.0045 0.0033 0.0036 0.0032 0.0036 0.0023 0.0049 0.004\n",
      " 0.0028 0.0031 0.0032 0.0047 0.0023 0.0032 0.0036 0.0027 0.0038 0.003\n",
      " 0.0027 0.0043 0.0037 0.0037 0.004  0.0045 0.0039 0.0039 0.0034 0.0085\n",
      " 0.0048 0.0035 0.0033 0.0028 0.0034 0.0036 0.0063 0.004  0.0074 0.0026\n",
      " 0.0022 0.0043 0.004  0.0026 0.0072 0.003  0.0034 0.0039 0.0044 0.0043\n",
      " 0.0031 0.004  0.0052 0.0082 0.0038 0.0037 0.0038 0.0027 0.0039 0.0029\n",
      " 0.0024 0.0027 0.0034 0.0043 0.0035 0.006  0.0036 0.0034 0.003  0.0036\n",
      " 0.0027 0.0032 0.0022 0.004  0.0031 0.0053 0.0058 0.0026 0.0042 0.0083\n",
      " 0.0042 0.0037 0.0045 0.0031 0.004  0.0053 0.0036 0.0044 0.0025 0.0035\n",
      " 0.0026 0.0036 0.0086 0.0044 0.0032 0.0037 0.0051 0.0036 0.0026 0.0038\n",
      " 0.0064 0.0056 0.0027 0.0042 0.0026 0.0051 0.0046 0.0038 0.0024 0.0041\n",
      " 0.0034 0.0039 0.0035 0.0037 0.0028 0.0029 0.0031 0.0029 0.0029 0.0049\n",
      " 0.0042 0.0044 0.0065 0.0024 0.0032 0.0064 0.0045 0.004  0.0032 0.0047\n",
      " 0.003  0.0042 0.0045 0.004  0.0049 0.003  0.0047 0.0028 0.0051 0.0047\n",
      " 0.0032 0.003  0.0022 0.0025 0.0042 0.0039 0.0048 0.0034 0.0038 0.0024\n",
      " 0.0023 0.008  0.0066 0.0042 0.0048 0.0032 0.0032 0.0032 0.003  0.0024\n",
      " 0.0036 0.0039 0.0031 0.0036 0.0031 0.0036 0.0049 0.0056 0.0036 0.0035\n",
      " 0.0028 0.0079 0.0045 0.0073 0.005  0.0047 0.0033 0.0022 0.0055 0.0035\n",
      " 0.003  0.0041 0.0036 0.0034 0.0043 0.0042 0.0035 0.0036 0.0036 0.0084\n",
      " 0.0036 0.0029 0.0038 0.004  0.0039 0.0034 0.0057 0.003  0.0023 0.0021\n",
      " 0.0047 0.0036 0.0071 0.0032 0.0066 0.0023 0.0032 0.0074 0.003  0.0037\n",
      " 0.0035 0.0041 0.0038 0.0032 0.0032 0.0027 0.0032 0.0062 0.004  0.0033]\n",
      "==== MD Risk Budgeting portfolio ====\n",
      "[0.0058 0.0029 0.0028 0.0033 0.0049 0.0069 0.0034 0.0025 0.0045 0.0044\n",
      " 0.0051 0.0023 0.0042 0.0049 0.0056 0.0046 0.0039 0.0075 0.0071 0.0043\n",
      " 0.0032 0.0036 0.0033 0.0048 0.0035 0.0055 0.0037 0.004  0.0024 0.0067\n",
      " 0.0028 0.0041 0.0045 0.0033 0.0036 0.0032 0.0036 0.0023 0.0049 0.004\n",
      " 0.0028 0.0031 0.0032 0.0047 0.0023 0.0032 0.0036 0.0027 0.0038 0.003\n",
      " 0.0027 0.0043 0.0037 0.0037 0.004  0.0045 0.0039 0.0039 0.0034 0.0085\n",
      " 0.0048 0.0035 0.0033 0.0028 0.0034 0.0036 0.0063 0.004  0.0074 0.0026\n",
      " 0.0022 0.0043 0.004  0.0026 0.0072 0.003  0.0034 0.0039 0.0044 0.0043\n",
      " 0.0031 0.004  0.0052 0.0082 0.0038 0.0037 0.0038 0.0027 0.0039 0.0029\n",
      " 0.0024 0.0027 0.0034 0.0043 0.0035 0.006  0.0036 0.0034 0.003  0.0036\n",
      " 0.0027 0.0032 0.0022 0.004  0.0031 0.0053 0.0058 0.0026 0.0042 0.0083\n",
      " 0.0042 0.0037 0.0045 0.0031 0.004  0.0053 0.0036 0.0044 0.0025 0.0035\n",
      " 0.0026 0.0036 0.0086 0.0044 0.0032 0.0037 0.0051 0.0036 0.0026 0.0038\n",
      " 0.0064 0.0056 0.0027 0.0042 0.0026 0.0051 0.0046 0.0038 0.0024 0.0041\n",
      " 0.0034 0.0039 0.0035 0.0037 0.0028 0.0029 0.0031 0.0029 0.0029 0.0049\n",
      " 0.0042 0.0044 0.0065 0.0024 0.0032 0.0064 0.0045 0.004  0.0032 0.0047\n",
      " 0.003  0.0042 0.0045 0.004  0.0049 0.003  0.0047 0.0028 0.0051 0.0047\n",
      " 0.0032 0.003  0.0022 0.0025 0.0042 0.0039 0.0048 0.0034 0.0038 0.0024\n",
      " 0.0023 0.008  0.0067 0.0042 0.0048 0.0032 0.0032 0.0032 0.003  0.0024\n",
      " 0.0036 0.0039 0.0031 0.0036 0.0031 0.0036 0.0049 0.0056 0.0036 0.0035\n",
      " 0.0028 0.0079 0.0045 0.0073 0.005  0.0047 0.0033 0.0022 0.0055 0.0035\n",
      " 0.003  0.0041 0.0036 0.0034 0.0043 0.0042 0.0035 0.0036 0.0036 0.0084\n",
      " 0.0036 0.0029 0.0038 0.004  0.0039 0.0034 0.0057 0.003  0.0023 0.0021\n",
      " 0.0047 0.0036 0.0071 0.0032 0.0066 0.0023 0.0032 0.0074 0.003  0.0037\n",
      " 0.0035 0.0041 0.0038 0.0032 0.0032 0.0027 0.0032 0.0062 0.004  0.0033]\n"
     ]
    },
    {
     "name": "stderr",
     "output_type": "stream",
     "text": [
      "\n"
     ]
    }
   ],
   "source": [
    "n_iter = 10000\n",
    "sol_250_fixed = determ_sol(SM_model, M, n_iter, nb_asset,  budgets,fixed_stepsize=True )\n",
    "sol_250_fixed.results(SM_theta)"
   ]
  },
  {
   "cell_type": "code",
   "execution_count": 165,
   "metadata": {},
   "outputs": [
    {
     "data": {
      "text/plain": [
       "0.0"
      ]
     },
     "execution_count": 165,
     "metadata": {},
     "output_type": "execute_result"
    }
   ],
   "source": [
    "difdet_250_fixed = abs((sol_250_fixed.y/sum(sol_250_fixed.y))- SM_theta)\n",
    "round(np.mean(difdet_250_fixed), 4) "
   ]
  },
  {
   "cell_type": "code",
   "execution_count": null,
   "metadata": {},
   "outputs": [],
   "source": []
  }
 ],
 "metadata": {
  "kernelspec": {
   "display_name": "mirrordescent",
   "language": "python",
   "name": "python3"
  },
  "language_info": {
   "codemirror_mode": {
    "name": "ipython",
    "version": 3
   },
   "file_extension": ".py",
   "mimetype": "text/x-python",
   "name": "python",
   "nbconvert_exporter": "python",
   "pygments_lexer": "ipython3",
   "version": "3.8.19"
  }
 },
 "nbformat": 4,
 "nbformat_minor": 2
}
