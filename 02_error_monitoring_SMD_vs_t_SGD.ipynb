{
 "cells": [
  {
   "cell_type": "code",
   "execution_count": 7,
   "id": "ffbcc045",
   "metadata": {},
   "outputs": [],
   "source": [
    "import numpy as np\n",
    "import pandas as pd\n",
    "import matplotlib.pyplot as plt\n",
    "from Lib.module.risk_budgeting import *\n",
    "import student_mixture as sm\n",
    "from tqdm import tqdm\n",
    "from Lib.module.movidas import *"
   ]
  },
  {
   "cell_type": "code",
   "execution_count": 8,
   "id": "ec48e52b",
   "metadata": {},
   "outputs": [
    {
     "name": "stdout",
     "output_type": "stream",
     "text": [
      "The autoreload extension is already loaded. To reload it, use:\n",
      "  %reload_ext autoreload\n"
     ]
    }
   ],
   "source": [
    "%load_ext autoreload\n",
    "%autoreload 2"
   ]
  },
  {
   "cell_type": "code",
   "execution_count": 9,
   "id": "ae62579c",
   "metadata": {},
   "outputs": [],
   "source": [
    "np.random.seed(0)"
   ]
  },
  {
   "cell_type": "code",
   "execution_count": 11,
   "id": "0b00ed01",
   "metadata": {},
   "outputs": [
    {
     "name": "stdout",
     "output_type": "stream",
     "text": [
      "(3446, 3)\n"
     ]
    }
   ],
   "source": [
    "### Import stock price data for model calibration\n",
    "freq = 'B'\n",
    "assets = ['JPM UN Equity', 'PFE UN Equity', 'XOM UN Equity']\n",
    "nb_asset = len(assets)\n",
    "\n",
    "df_all = pd.concat([pd.read_excel('Data/SP_RC.xlsx',index_col=0, header=[0,1]), pd.read_excel('Data/SP_RC2.xlsx',index_col=0, header=[0,1])])\n",
    "df_all = df_all.dropna(how='all').dropna(axis=1)\n",
    "df_all = df_all.pct_change().dropna()\n",
    "df_all = df_all.replace([np.inf, -np.inf], np.nan)\n",
    "df_all = df_all[~df_all.index.duplicated(keep='first')]\n",
    "df = df_all[assets]\n",
    "\n",
    "X = df.values\n",
    "print(X.shape)"
   ]
  },
  {
   "cell_type": "code",
   "execution_count": 12,
   "id": "c139dc62",
   "metadata": {},
   "outputs": [],
   "source": [
    "### Fit Student-t mixture (2 components) to chosen stock returns\n",
    "n_sm = 2\n",
    "SM_model = sm.StudentMixture(n_components=n_sm, fixed_dofs = True, dofs_init = [2.5,4]).fit(X)"
   ]
  },
  {
   "cell_type": "code",
   "execution_count": 13,
   "id": "dbb19600",
   "metadata": {},
   "outputs": [
    {
     "name": "stdout",
     "output_type": "stream",
     "text": [
      "==== Number of assets ====\n",
      "3\n",
      "==== Number of mixture components ====\n",
      "2\n",
      "==== Weights (probability) parameters ====\n",
      "[0.57536895 0.42463105]\n",
      "==== Degree of freedom parameters ====\n",
      "[2.5 4. ]\n",
      "==== Location parameters ====\n",
      "[[-0.00070383 -0.00097538 -0.00182552]\n",
      " [ 0.00160405  0.00209373  0.00204925]]\n",
      "==== Scale parameters ====\n",
      "[[[2.45546634e-04 7.09484995e-05 8.74424168e-05]\n",
      "  [7.09484995e-05 6.90364583e-05 4.56142046e-05]\n",
      "  [8.74424168e-05 4.56142046e-05 1.04945729e-04]]\n",
      "\n",
      " [[9.06453859e-05 1.79115311e-05 4.41578466e-05]\n",
      "  [1.79115311e-05 1.24689694e-04 1.80013614e-05]\n",
      "  [4.41578466e-05 1.80013614e-05 1.06182789e-04]]]\n"
     ]
    }
   ],
   "source": [
    "### Print model parameters \n",
    "print(\"==== Number of assets ====\")\n",
    "print(nb_asset)\n",
    "print(\"==== Number of mixture components ====\")\n",
    "print(n_sm)\n",
    "print(\"==== Weights (probability) parameters ====\")\n",
    "print(SM_model.weights_)\n",
    "print(\"==== Degree of freedom parameters ====\")\n",
    "print(SM_model.dofs_)\n",
    "print(\"==== Location parameters ====\")\n",
    "print(SM_model.locations_)\n",
    "print(\"==== Scale parameters ====\")\n",
    "print(SM_model.scales_)"
   ]
  },
  {
   "cell_type": "code",
   "execution_count": 14,
   "id": "513cbd21",
   "metadata": {},
   "outputs": [
    {
     "name": "stdout",
     "output_type": "stream",
     "text": [
      "==== Target Risk Bugdets ====\n",
      "[0.3333 0.3333 0.3333]\n",
      "==== $y^*$ ====\n",
      "[ 6.9959 11.6543  9.8087]\n",
      "==== Risk Budgeting portfolio ($u^*$) ====\n",
      "[0.2458 0.4095 0.3447]\n",
      "==== VaR of the portfolio ====\n",
      "0.0202\n",
      "==== Expected Shortfall of the portfolio ====\n",
      "0.0351\n",
      "==== Risk Contributions ====\n",
      "[0.01171 0.01171 0.01171]\n",
      "==== Risk Contributions (normalized) ====\n",
      "[0.33 0.33 0.33]\n"
     ]
    }
   ],
   "source": [
    "### Compute the Risk Budgeting portfolio under the above model\n",
    "\n",
    "# ERC\n",
    "budgets = np.ones(nb_asset)/nb_asset \n",
    "# Expected Shortfall alpha\n",
    "alpha = .95 \n",
    "\n",
    "SM_theta, optim_res = StudentMixtureExpectedShortfall(SM_model).solve_risk_budgeting(budgets, alpha, on_simplex=False, kappa=1, method=None, maxiter=15000)\n",
    "VaR_port = StudentMixtureExpectedShortfall(SM_model).value_at_risk(SM_theta, alpha)\n",
    "ES_port = StudentMixtureExpectedShortfall(SM_model).expected_shortfall(SM_theta, alpha)\n",
    "risk_contribs = SM_theta * StudentMixtureExpectedShortfall(SM_model).expected_shortfall_gradient(SM_theta, alpha)\n",
    "\n",
    "print('==== Target Risk Bugdets ====')\n",
    "print(np.round(budgets, 4))\n",
    "print('==== $y^*$ ====')\n",
    "print(np.round(optim_res.x, 4))\n",
    "\n",
    "print('==== Risk Budgeting portfolio ($u^*$) ====')\n",
    "print(np.round(SM_theta, 4))\n",
    "print('==== VaR of the portfolio ====')\n",
    "print(np.round(VaR_port, 4))\n",
    "print('==== Expected Shortfall of the portfolio ====')\n",
    "print(np.round(ES_port, 4))\n",
    "print('==== Risk Contributions ====')\n",
    "print(np.round(risk_contribs, 5))\n",
    "print('==== Risk Contributions (normalized) ====')\n",
    "print(np.round(risk_contribs/sum(risk_contribs), 2))"
   ]
  },
  {
   "cell_type": "code",
   "execution_count": 15,
   "id": "dbce12c3",
   "metadata": {},
   "outputs": [
    {
     "data": {
      "text/plain": [
       "-1.2280854838694133"
      ]
     },
     "execution_count": 15,
     "metadata": {},
     "output_type": "execute_result"
    }
   ],
   "source": [
    "optimal_loss = StudentMixtureExpectedShortfall(SM_model).expected_shortfall(optim_res.x, alpha) - np.dot(budgets, np.log(optim_res.x))\n",
    "optimal_loss"
   ]
  },
  {
   "cell_type": "markdown",
   "id": "26a0dd80",
   "metadata": {},
   "source": [
    "### SMD vs. SGD - Error analysis"
   ]
  },
  {
   "cell_type": "code",
   "execution_count": null,
   "id": "70f991d4",
   "metadata": {},
   "outputs": [
    {
     "name": "stderr",
     "output_type": "stream",
     "text": [
      "100%|██████████| 100/100 [4:04:58<00:00, 146.99s/it] \n"
     ]
    }
   ],
   "source": [
    "np.random.seed(0)\n",
    "\n",
    "errors_sgd = []\n",
    "errors_smd = []\n",
    "\n",
    "for i in tqdm(range(100)):\n",
    "\n",
    "    n_val=1000000\n",
    "    X = SM_model.rvs(n_val)\n",
    "    np.random.shuffle(X)\n",
    "\n",
    "    alpha = .95\n",
    "    gamma_sgd = 25\n",
    "    gamma_smd = 1\n",
    "\n",
    "    y_sgd = budgets / np.std(X, axis=0)\n",
    "    xi_sgd = 0\n",
    "    c_sgd = .65\n",
    "\n",
    "    y_smd = budgets / np.std(X, axis=0)\n",
    "    xi_smd = 0\n",
    "    c_smd = .65\n",
    "    M = 500\n",
    "\n",
    "    y_sgd_s = [y_sgd]\n",
    "    xi_sgd_s = [xi_sgd]\n",
    "    y_bar_sgd_s = [y_sgd]\n",
    "    y_bar_sgd_numerator = 0\n",
    "    y_bar_sgd_denominator = 0\n",
    "\n",
    "    y_smd_s = [y_smd]\n",
    "    xi_smd_s = [xi_smd]\n",
    "    y_bar_smd_s = [y_smd]\n",
    "    y_bar_smd_numerator = 0\n",
    "    y_bar_smd_denominator = 0\n",
    "\n",
    "    error_sgd = []\n",
    "    error_smd = []\n",
    "\n",
    "    freq_error = 50\n",
    "\n",
    "    for k in range(1, n_val):\n",
    "        x = X[k]\n",
    "        \n",
    "        ### SGD\n",
    "        # gradient\n",
    "        step_size_sgd = gamma_sgd/k**c_sgd\n",
    "        indicator_sgd = -np.dot(y_sgd, x) - xi_sgd >= 0\n",
    "        grad_y_sgd = -x/(1-alpha)*indicator_sgd - budgets/y_sgd\n",
    "        grad_xi_sgd = 1 - (1 / (1 - alpha)) * indicator_sgd\n",
    "\n",
    "        #descent\n",
    "        y_sgd = y_sgd - step_size_sgd*grad_y_sgd*min(min(y_sgd),1)\n",
    "        y_sgd = np.where(y_sgd <= 0, 1e-04, y_sgd)\n",
    "        xi_sgd = xi_sgd - step_size_sgd*grad_xi_sgd\n",
    "        y_bar_sgd_numerator += y_sgd*step_size_sgd\n",
    "        y_bar_sgd_denominator += step_size_sgd\n",
    "\n",
    "        ### SMD\n",
    "        # gradient\n",
    "        step_size_smd = gamma_smd/k**c_smd\n",
    "        indicator_smd = -np.dot(y_smd, x) - xi_smd >= 0\n",
    "        grad_y_smd = -x/(1-alpha)*indicator_smd - budgets/y_smd\n",
    "        grad_xi_smd = 1 - (1 / (1 - alpha)) * indicator_smd\n",
    "\n",
    "        y_smd_min = min(min(y_smd),1)\n",
    "        y_smd = y_smd*np.exp(-step_size_smd*y_smd_min*grad_y_smd)\n",
    "        xi_smd = xi_smd - step_size_smd*grad_xi_smd\n",
    "        sum_y_smd = np.sum(y_smd)\n",
    "        if sum_y_smd>M:\n",
    "            y_smd = M/sum_y_smd*y_smd\n",
    "        y_bar_smd_numerator += y_smd*step_size_smd\n",
    "        y_bar_smd_denominator += step_size_smd\n",
    "\n",
    "        # y_sgd_s.append(y_sgd)\n",
    "        # xi_sgd_s.append(xi_sgd)\n",
    "        # y_bar_sgd_s.append(y_bar_sgd_numerator/y_bar_sgd_denominator)\n",
    "\n",
    "        # y_smd_s.append(y_smd)\n",
    "        # xi_smd_s.append(xi_smd)\n",
    "        # y_bar_smd_s.append(y_bar_smd_numerator/y_bar_smd_denominator)\n",
    "\n",
    "        if k%freq_error==0:\n",
    "            error_sgd.append(StudentMixtureExpectedShortfall(SM_model).expected_shortfall(y_sgd, alpha) - np.dot(budgets, np.log(y_sgd)) - optimal_loss)\n",
    "            error_smd.append(StudentMixtureExpectedShortfall(SM_model).expected_shortfall(y_smd, alpha) - np.dot(budgets, np.log(y_smd)) - optimal_loss)\n",
    "    \n",
    "    errors_sgd.append(error_sgd)\n",
    "    errors_smd.append(error_smd)\n",
    "\n",
    "    np.save('Output/sgd_errors_tamed.npy', np.array(errors_sgd))\n",
    "    np.save('Output/smd_errors_tamed.npy', np.array(errors_smd))"
   ]
  }
 ],
 "metadata": {
  "kernelspec": {
   "display_name": "mirror_descent",
   "language": "python",
   "name": "python3"
  },
  "language_info": {
   "codemirror_mode": {
    "name": "ipython",
    "version": 3
   },
   "file_extension": ".py",
   "mimetype": "text/x-python",
   "name": "python",
   "nbconvert_exporter": "python",
   "pygments_lexer": "ipython3",
   "version": "3.8.19"
  }
 },
 "nbformat": 4,
 "nbformat_minor": 5
}
