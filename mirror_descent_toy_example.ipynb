{
 "cells": [
  {
   "cell_type": "code",
   "execution_count": 1,
   "metadata": {},
   "outputs": [],
   "source": [
    "import numpy as np\n",
    "import pandas as pd\n",
    "import matplotlib.pyplot as plt\n",
    "from Lib.module.risk_budgeting import *\n",
    "import student_mixture as sm"
   ]
  },
  {
   "cell_type": "code",
   "execution_count": 2,
   "metadata": {},
   "outputs": [],
   "source": [
    "np.random.seed(0)"
   ]
  },
  {
   "cell_type": "code",
   "execution_count": 3,
   "metadata": {},
   "outputs": [],
   "source": [
    "### Import stock price data for model calibration\n",
    "freq = 'B'\n",
    "assets = ['JPM UN Equity', 'PFE UN Equity', 'XOM UN Equity']\n",
    "nb_asset = len(assets)\n",
    "\n",
    "df = pd.concat([pd.read_excel('Data/SP_RC.xlsx',index_col=0, header=[0,1]), pd.read_excel('Data/SP_RC2.xlsx',index_col=0, header=[0,1])])\n",
    "df = df.dropna(how='all').dropna(axis=1)\n",
    "df = df.pct_change().dropna()\n",
    "df = df.replace([np.inf, -np.inf], np.nan)\n",
    "df = df[~df.index.duplicated(keep='first')]\n",
    "df = df[assets]\n",
    "\n",
    "X = df.values"
   ]
  },
  {
   "cell_type": "code",
   "execution_count": 4,
   "metadata": {},
   "outputs": [
    {
     "data": {
      "text/plain": [
       "(3446, 3)"
      ]
     },
     "execution_count": 4,
     "metadata": {},
     "output_type": "execute_result"
    }
   ],
   "source": [
    "X.shape"
   ]
  },
  {
   "cell_type": "code",
   "execution_count": 5,
   "metadata": {},
   "outputs": [],
   "source": [
    "### Fit Student-t mixture (2 components) to chosen stock returns\n",
    "n_sm = 2\n",
    "SM_model = sm.StudentMixture(n_components=n_sm).fit(X)\n",
    "\n",
    "locs = SM_model.locations_\n",
    "scales = SM_model.scales_\n",
    "probs = SM_model.weights_\n",
    "dofs = SM_model.dofs_\n",
    "\n",
    "### Some adjustments on the parameters of the final model \n",
    "locs = np.array([round_to_1(i) for i in locs.flatten()]).reshape(locs.shape)\n",
    "scales = np.array([round_to_1(i) for i in scales.flatten()]).reshape(scales.shape)\n",
    "\n",
    "dofs[0] = round_down(dofs[0], 1)\n",
    "dofs[1] = round_down(dofs[1], 1)\n",
    "\n",
    "probs[0] = round_up(probs[0], 1)\n",
    "probs[1] = 1-probs[0]\n",
    "\n",
    "\n",
    "SM_model.locations_ = locs\n",
    "SM_model.scales_ = scales\n",
    "SM_model.weights_ = probs\n",
    "SM_model.dofs_ = dofs"
   ]
  },
  {
   "cell_type": "code",
   "execution_count": 6,
   "metadata": {},
   "outputs": [
    {
     "name": "stdout",
     "output_type": "stream",
     "text": [
      "==== Number of assets ====\n",
      "3\n",
      "==== Number of mixture components ====\n",
      "2\n",
      "==== Weights (probability) parameters ====\n",
      "[0.7 0.3]\n",
      "==== Degree of freedom parameters ====\n",
      "[3.4 2.6]\n",
      "==== Location parameters ====\n",
      "[[ 0.0001  0.0002 -0.0003]\n",
      " [ 0.001   0.0005  0.0002]]\n",
      "==== Scale parameters ====\n",
      "[[[9.e-05 3.e-05 5.e-05]\n",
      "  [3.e-05 9.e-05 3.e-05]\n",
      "  [5.e-05 3.e-05 1.e-04]]\n",
      "\n",
      " [[4.e-04 1.e-04 1.e-04]\n",
      "  [1.e-04 1.e-04 6.e-05]\n",
      "  [1.e-04 6.e-05 1.e-04]]]\n"
     ]
    }
   ],
   "source": [
    "### Print model parameters \n",
    "print(\"==== Number of assets ====\")\n",
    "print(nb_asset)\n",
    "print(\"==== Number of mixture components ====\")\n",
    "print(n_sm)\n",
    "print(\"==== Weights (probability) parameters ====\")\n",
    "print(SM_model.weights_)\n",
    "print(\"==== Degree of freedom parameters ====\")\n",
    "print(SM_model.dofs_)\n",
    "print(\"==== Location parameters ====\")\n",
    "print(SM_model.locations_)\n",
    "print(\"==== Scale parameters ====\")\n",
    "print(SM_model.scales_)"
   ]
  },
  {
   "cell_type": "code",
   "execution_count": 9,
   "metadata": {},
   "outputs": [
    {
     "name": "stdout",
     "output_type": "stream",
     "text": [
      "==== Target Risk Bugdets ====\n",
      "[0.3333 0.3333 0.3333]\n",
      "==== Risk Budgeting portfolio ====\n",
      "[0.2535 0.3866 0.3599]\n",
      "==== VaR of the portfolio ====\n",
      "0.0193\n",
      "==== Expected Shortfall of the portfolio ====\n",
      "0.0329\n",
      "==== Risk Contributions ====\n",
      "[0.01096 0.01096 0.01096]\n",
      "==== Risk Contributions (normalized) ====\n",
      "[0.33 0.33 0.33]\n"
     ]
    }
   ],
   "source": [
    "### Compute the Risk Budgeting portfolio under the above model\n",
    "\n",
    "# ERC\n",
    "budgets = np.ones(nb_asset)/nb_asset \n",
    "# Expected Shortfall alpha\n",
    "alpha = .95 \n",
    "\n",
    "SM_theta, optim_res = StudentMixtureExpectedShortfall(SM_model).solve_risk_budgeting(budgets, alpha, on_simplex=False, kappa=1, method=None, maxiter=15000)\n",
    "VaR_port = StudentMixtureExpectedShortfall(SM_model).value_at_risk(SM_theta, alpha)\n",
    "ES_port = StudentMixtureExpectedShortfall(SM_model).expected_shortfall(SM_theta, alpha)\n",
    "risk_contribs = SM_theta * StudentMixtureExpectedShortfall(SM_model).expected_shortfall_gradient(SM_theta, alpha)\n",
    "\n",
    "print('==== Target Risk Bugdets ====')\n",
    "print(np.round(budgets, 4))\n",
    "print('==== Risk Budgeting portfolio ====')\n",
    "print(np.round(SM_theta, 4))\n",
    "print('==== VaR of the portfolio ====')\n",
    "print(np.round(VaR_port, 4))\n",
    "print('==== Expected Shortfall of the portfolio ====')\n",
    "print(np.round(ES_port, 4))\n",
    "print('==== Risk Contributions ====')\n",
    "print(np.round(risk_contribs, 5))\n",
    "print('==== Risk Contributions (normalized) ====')\n",
    "print(np.round(risk_contribs/sum(risk_contribs), 2))"
   ]
  },
  {
   "cell_type": "code",
   "execution_count": 22,
   "metadata": {},
   "outputs": [
    {
     "data": {
      "text/plain": [
       "<matplotlib.collections.LineCollection at 0x2221d86ddf0>"
      ]
     },
     "execution_count": 22,
     "metadata": {},
     "output_type": "execute_result"
    },
    {
     "data": {
      "image/png": "[encoded data removed]",
      "text/plain": [
       "<Figure size 432x288 with 1 Axes>"
      ]
     },
     "metadata": {
      "needs_background": "light"
     },
     "output_type": "display_data"
    }
   ],
   "source": [
    "#### Implement Mirror Descent (without lambda)\n",
    "d = nb_asset\n",
    "budgets = np.ones(d)/d\n",
    "\n",
    "n_iter = 100\n",
    "\n",
    "stepsize = 5\n",
    "u = budgets\n",
    "\n",
    "u_list = [u]\n",
    "\n",
    "for _ in range(n_iter):\n",
    "\n",
    "    u_min = min(u)\n",
    "    u = u*np.exp(-stepsize*u_min*(StudentMixtureExpectedShortfall(SM_model).expected_shortfall_gradient(u, alpha) - budgets/u))\n",
    "    u = u/sum(u)\n",
    "\n",
    "    u_list.append(u)\n",
    "\n",
    "plt.plot(u_list)\n",
    "plt.hlines(SM_theta, xmin=plt.xlim()[0], xmax=plt.xlim()[1], color='red', ls='dashed')\n"
   ]
  },
  {
   "cell_type": "code",
   "execution_count": 21,
   "metadata": {},
   "outputs": [
    {
     "data": {
      "text/plain": [
       "<matplotlib.collections.LineCollection at 0x2221e57d5b0>"
      ]
     },
     "execution_count": 21,
     "metadata": {},
     "output_type": "execute_result"
    },
    {
     "data": {
      "image/png": "[encoded data removed]",
      "text/plain": [
       "<Figure size 432x288 with 1 Axes>"
      ]
     },
     "metadata": {
      "needs_background": "light"
     },
     "output_type": "display_data"
    }
   ],
   "source": [
    "#### Implement Mirror Descent (with lambda!)\n",
    "d = nb_asset\n",
    "budgets = np.ones(d)/d\n",
    "\n",
    "n_iter = 100\n",
    "\n",
    "stepsize = 5\n",
    "u = budgets\n",
    "\n",
    "u_list = [u]\n",
    "\n",
    "for _ in range(n_iter):\n",
    "\n",
    "    u_min = min(u)\n",
    "    lambda_ = StudentMixtureExpectedShortfall(SM_model).expected_shortfall(u, alpha)\n",
    "    u = u*np.exp(-stepsize*u_min*(StudentMixtureExpectedShortfall(SM_model).expected_shortfall_gradient(u, alpha) - lambda_*budgets/u))\n",
    "    u = u/sum(u)\n",
    "\n",
    "    u_list.append(u)\n",
    "\n",
    "plt.plot(u_list)\n",
    "plt.hlines(SM_theta, xmin=plt.xlim()[0], xmax=plt.xlim()[1], color='red', ls='dashed')"
   ]
  }
 ],
 "metadata": {
  "kernelspec": {
   "display_name": "Python 3",
   "language": "python",
   "name": "python3"
  },
  "language_info": {
   "codemirror_mode": {
    "name": "ipython",
    "version": 3
   },
   "file_extension": ".py",
   "mimetype": "text/x-python",
   "name": "python",
   "nbconvert_exporter": "python",
   "pygments_lexer": "ipython3",
   "version": "3.8.5"
  }
 },
 "nbformat": 4,
 "nbformat_minor": 2
}
